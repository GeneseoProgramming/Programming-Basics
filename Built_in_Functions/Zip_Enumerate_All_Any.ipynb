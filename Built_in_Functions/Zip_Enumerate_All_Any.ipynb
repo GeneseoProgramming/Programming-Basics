{
 "cells": [
  {
   "cell_type": "markdown",
   "metadata": {},
   "source": [
    "# Zip, Enumerate_All_Any\n",
    "\n",
    "## Zip\n",
    "\n",
    "The **zip** function takes in iterables and zips them together as tuples. What does this mean? It is easier to show it rather than explain. See below. We will take three lists and zip them together.\n",
    "\n",
    "*Note: if you are using python 2, zip will automatically return a list, if you are using python 3, wrap the zip function with a list function.*"
   ]
  },
  {
   "cell_type": "code",
   "execution_count": 9,
   "metadata": {
    "collapsed": true
   },
   "outputs": [],
   "source": [
    "list1 = [1,3,5,7]\n",
    "list2 = [2,4,6,8]\n",
    "list3 = [\"Hi\", \"Hello\", \"How are you?\", \"What's up?\"]"
   ]
  },
  {
   "cell_type": "code",
   "execution_count": 10,
   "metadata": {},
   "outputs": [
    {
     "data": {
      "text/plain": [
       "[(1, 2, 'Hi'), (3, 4, 'Hello'), (5, 6, 'How are you?'), (7, 8, \"What's up?\")]"
      ]
     },
     "execution_count": 10,
     "metadata": {},
     "output_type": "execute_result"
    }
   ],
   "source": [
    "list(zip(list1, list2, list3))"
   ]
  },
  {
   "cell_type": "markdown",
   "metadata": {},
   "source": [
    "A list of tuples was made with the nth tuple containing the nth item from **list1**, **list2**, and **list3**.\n",
    "\n",
    "We can also use the zip function to zip together dictionaries."
   ]
  },
  {
   "cell_type": "code",
   "execution_count": 25,
   "metadata": {
    "collapsed": true
   },
   "outputs": [],
   "source": [
    "dict1 = {\"key1\": 1, \"key2\": 2, \"key3\": 3}\n",
    "dict2 = {\"k1\": \"one\", \"k2\": \"two\", \"k3\": \"three\"}"
   ]
  },
  {
   "cell_type": "code",
   "execution_count": 26,
   "metadata": {},
   "outputs": [
    {
     "data": {
      "text/plain": [
       "{'key1': 'k1', 'key2': 'k2', 'key3': 'k3'}"
      ]
     },
     "execution_count": 26,
     "metadata": {},
     "output_type": "execute_result"
    }
   ],
   "source": [
    "dict(zip(dict1,dict2))"
   ]
  },
  {
   "cell_type": "markdown",
   "metadata": {},
   "source": [
    "You may have noticed that the dictionary returned only have the keys from the two dictionaries returned. If we want to have the values returned, we can just use the **.values()** method"
   ]
  },
  {
   "cell_type": "code",
   "execution_count": 24,
   "metadata": {},
   "outputs": [
    {
     "data": {
      "text/plain": [
       "{'key1': 'one', 'key2': 'two', 'key3': 'three'}"
      ]
     },
     "execution_count": 24,
     "metadata": {},
     "output_type": "execute_result"
    }
   ],
   "source": [
    "dict(zip(dict1, dict2.values()))"
   ]
  },
  {
   "cell_type": "markdown",
   "metadata": {},
   "source": [
    "If we are iterating, we can use the itervalues method"
   ]
  },
  {
   "cell_type": "markdown",
   "metadata": {},
   "source": [
    "## Enumerate\n",
    "\n",
    "The **enumerate** function takes an iterable and returns tuples containing an index, value pair. The tuples returned should look like:\n",
    "\n",
    "    (index, item)\n",
    "    \n",
    "Look at the example below where we use the enumerate function on a list.\n",
    "\n",
    "*Note: if you are using python 2, enumerate will automatically return a list, if you are using python 3, wrap the enumerate function with a list function.*"
   ]
  },
  {
   "cell_type": "code",
   "execution_count": 37,
   "metadata": {},
   "outputs": [],
   "source": [
    "my_list = [\"item0\", \"item1\", \"item2\", \"item3\", \"item4\"]"
   ]
  },
  {
   "cell_type": "code",
   "execution_count": 38,
   "metadata": {},
   "outputs": [
    {
     "data": {
      "text/plain": [
       "[(0, 'item0'), (1, 'item1'), (2, 'item2'), (3, 'item3'), (4, 'item4')]"
      ]
     },
     "execution_count": 38,
     "metadata": {},
     "output_type": "execute_result"
    }
   ],
   "source": [
    "list(enumerate(my_list))"
   ]
  },
  {
   "cell_type": "markdown",
   "metadata": {},
   "source": [
    "The enumerate function is used very often with for loops because it allows us to keep track of the iteration (also known as the count). We can do this through tuple unpacking."
   ]
  },
  {
   "cell_type": "code",
   "execution_count": 43,
   "metadata": {},
   "outputs": [
    {
     "name": "stdout",
     "output_type": "stream",
     "text": [
      "0\n",
      "item0\n",
      "1\n",
      "item1\n",
      "2\n",
      "item2\n",
      "3\n",
      "item3\n",
      "4\n",
      "item4\n"
     ]
    }
   ],
   "source": [
    "for count, item in enumerate(my_list):\n",
    "    print(count)\n",
    "    print(item)"
   ]
  },
  {
   "cell_type": "markdown",
   "metadata": {},
   "source": [
    "We can then perform operations on the count. For example, we can have our for loop break if the count goes about 2."
   ]
  },
  {
   "cell_type": "code",
   "execution_count": 46,
   "metadata": {},
   "outputs": [
    {
     "name": "stdout",
     "output_type": "stream",
     "text": [
      "the count is  0\n",
      "the item in my_list is  item0\n",
      "the count is  1\n",
      "the item in my_list is  item1\n",
      "the count is  2\n",
      "the item in my_list is  item2\n",
      "the count is above 2. Break!\n"
     ]
    }
   ],
   "source": [
    "for count, item in enumerate(my_list):\n",
    "    if count <= 2:\n",
    "        print(\"the count is \", count)\n",
    "        print(\"the item in my_list is \", item)\n",
    "    else:\n",
    "        print(\"the count is above 2. Break!\")\n",
    "        break\n",
    "    "
   ]
  },
  {
   "cell_type": "markdown",
   "metadata": {},
   "source": [
    "## All\n",
    "\n",
    "We can use the **all** function to check if all items in an iterable return **True**. If all items are True, the all function will return **True**"
   ]
  },
  {
   "cell_type": "code",
   "execution_count": 48,
   "metadata": {
    "collapsed": true
   },
   "outputs": [],
   "source": [
    "#list with one false\n",
    "my_list = [True, True, True, True, False, True]"
   ]
  },
  {
   "cell_type": "code",
   "execution_count": 49,
   "metadata": {},
   "outputs": [
    {
     "data": {
      "text/plain": [
       "False"
      ]
     },
     "execution_count": 49,
     "metadata": {},
     "output_type": "execute_result"
    }
   ],
   "source": [
    "all(my_list)"
   ]
  },
  {
   "cell_type": "code",
   "execution_count": 51,
   "metadata": {},
   "outputs": [
    {
     "data": {
      "text/plain": [
       "True"
      ]
     },
     "execution_count": 51,
     "metadata": {},
     "output_type": "execute_result"
    }
   ],
   "source": [
    "#list with all true\n",
    "my_list = [True, True, True, True, True]\n",
    "all(my_list)"
   ]
  },
  {
   "cell_type": "markdown",
   "metadata": {},
   "source": [
    "We can use for loops within our all function to make better use of the all function. See the example below where we check if all the letters in \"Joseph\" are \"e\". Of course, they aren't, so **False** should be returned."
   ]
  },
  {
   "cell_type": "code",
   "execution_count": 53,
   "metadata": {},
   "outputs": [
    {
     "data": {
      "text/plain": [
       "False"
      ]
     },
     "execution_count": 53,
     "metadata": {},
     "output_type": "execute_result"
    }
   ],
   "source": [
    "all(letter == \"e\" for letter in \"Joseph\")"
   ]
  },
  {
   "cell_type": "markdown",
   "metadata": {},
   "source": [
    "## Any\n",
    "\n",
    "The **any** function will return **True** if any items in the iterable are True."
   ]
  },
  {
   "cell_type": "code",
   "execution_count": 58,
   "metadata": {},
   "outputs": [
    {
     "data": {
      "text/plain": [
       "True"
      ]
     },
     "execution_count": 58,
     "metadata": {},
     "output_type": "execute_result"
    }
   ],
   "source": [
    "#list with all false except one true\n",
    "my_list = [False, False, False, True, False]\n",
    "any(my_list)"
   ]
  },
  {
   "cell_type": "code",
   "execution_count": 59,
   "metadata": {},
   "outputs": [
    {
     "data": {
      "text/plain": [
       "False"
      ]
     },
     "execution_count": 59,
     "metadata": {},
     "output_type": "execute_result"
    }
   ],
   "source": [
    "#list with all false\n",
    "my_list = [False, False, False, False]\n",
    "any(my_list)"
   ]
  },
  {
   "cell_type": "markdown",
   "metadata": {},
   "source": [
    "Again, we can use the any function along with for loops for better usage. In this example, we will check if any letters in \"Joseph\" are \"e\". It should return true, because there is an \"e\" in \"Joseph\""
   ]
  },
  {
   "cell_type": "code",
   "execution_count": 60,
   "metadata": {},
   "outputs": [
    {
     "data": {
      "text/plain": [
       "True"
      ]
     },
     "execution_count": 60,
     "metadata": {},
     "output_type": "execute_result"
    }
   ],
   "source": [
    "any(letter == \"e\" for letter in \"Joseph\")"
   ]
  },
  {
   "cell_type": "code",
   "execution_count": null,
   "metadata": {
    "collapsed": true
   },
   "outputs": [],
   "source": []
  }
 ],
 "metadata": {
  "kernelspec": {
   "display_name": "Python 3",
   "language": "python",
   "name": "python3"
  },
  "language_info": {
   "codemirror_mode": {
    "name": "ipython",
    "version": 3
   },
   "file_extension": ".py",
   "mimetype": "text/x-python",
   "name": "python",
   "nbconvert_exporter": "python",
   "pygments_lexer": "ipython3",
   "version": "3.6.1"
  }
 },
 "nbformat": 4,
 "nbformat_minor": 2
}
