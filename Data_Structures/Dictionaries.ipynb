{
 "cells": [
  {
   "cell_type": "markdown",
   "metadata": {
    "collapsed": true
   },
   "source": [
    "# Dictionaries\n",
    "\n",
    "Except for sets, all of the data structures that we have been discussing were *sequences*. We are going to change things up now, and talk about a different type of data structure, a *mapping*. There is only one standard class of mappings, **dictionaries**. So what is a mapping? Mappings are a collection of elements that are stored by **keys**. This is different from sequences, where elements were stored by their position (their index number).\n",
    "\n",
    "## What are Dictionaries?\n",
    "\n",
    "A dictionary consists of a **key** and its accompanying **value**. If you are coming from another language, you may know dictionaries as *associative arrays*.\n",
    "\n",
    "### Properties of Dictionaries\n",
    "\n",
    "1. The keys of a dictionary must be unique - no repeating keys.\n",
    "2. Every key has an associated value.\n",
    "3. Keys can be any immutable object - strings, numbers, or tuples (if the tuple itself only contains immutable objects) as well.\n",
    "4. A value can be pretty much any python object.\n",
    "5. Dictionary indexing is done through keys, not through position like with sequences.\n",
    "\n",
    "## How Do You Make a Dictionary?\n",
    "\n",
    "The syntax for making a dictionary is:\n",
    "\n",
    "{\"key 1\": value 1, \"key 2\": value 2, \"key 3\": value 3, ...}\n",
    "\n",
    "Let's make a dictionary in the cell below."
   ]
  },
  {
   "cell_type": "code",
   "execution_count": 42,
   "metadata": {},
   "outputs": [],
   "source": [
    "#dictionary with keys called k1, k2, k3, etc.\n",
    "my_dict = {\"k1\": 1, \"k2\": \"hi\", \"k3\": (1,2,3), \"k4\": [\"programming\", \"is\", \"fun\"], \"k5\": 3.14159265 }"
   ]
  },
  {
   "cell_type": "markdown",
   "metadata": {},
   "source": [
    "Please note the wide range of data types a value can hold. In the dictionary we just made, **my_dict**, we have an integer, a float, a string, a tuple, and a list!\n",
    "\n",
    "## Getting Values Out of a Dictionary\n",
    "\n",
    "As was said before, dictionaries are indexed through their keys. Let's see how this works."
   ]
  },
  {
   "cell_type": "code",
   "execution_count": 43,
   "metadata": {},
   "outputs": [
    {
     "data": {
      "text/plain": [
       "1"
      ]
     },
     "execution_count": 43,
     "metadata": {},
     "output_type": "execute_result"
    }
   ],
   "source": [
    "#index with keys to get out values\n",
    "my_dict[\"k1\"]"
   ]
  },
  {
   "cell_type": "code",
   "execution_count": 44,
   "metadata": {},
   "outputs": [
    {
     "data": {
      "text/plain": [
       "['programming', 'is', 'fun']"
      ]
     },
     "execution_count": 44,
     "metadata": {},
     "output_type": "execute_result"
    }
   ],
   "source": [
    "#Let's do it again!\n",
    "my_dict[\"k4\"]"
   ]
  },
  {
   "cell_type": "markdown",
   "metadata": {},
   "source": [
    "## Assigning New Keys to a Dictionary\n",
    "\n",
    "We can easily assign new keys and their values to a dictionary. To do so, index with the new key and set it equal to some value. See below for an example."
   ]
  },
  {
   "cell_type": "code",
   "execution_count": 45,
   "metadata": {
    "collapsed": true
   },
   "outputs": [],
   "source": [
    "#assign new value\n",
    "my_dict[\"k6\"] = \"new value!\""
   ]
  },
  {
   "cell_type": "code",
   "execution_count": 47,
   "metadata": {},
   "outputs": [
    {
     "name": "stdout",
     "output_type": "stream",
     "text": [
      "{'k1': 1, 'k2': 'hi', 'k3': (1, 2, 3), 'k4': ['programming', 'is', 'fun'], 'k5': 3.14159265, 'k6': 'new value!'}\n"
     ]
    }
   ],
   "source": [
    "#Check\n",
    "print(my_dict)"
   ]
  },
  {
   "cell_type": "markdown",
   "metadata": {},
   "source": [
    "## Nested Dictionaries\n",
    "\n",
    "We can have dictionaries nested into dictionaries. Let's see how we can do this."
   ]
  },
  {
   "cell_type": "code",
   "execution_count": 48,
   "metadata": {
    "collapsed": true
   },
   "outputs": [],
   "source": [
    "#create nested dictionary\n",
    "my_dict = {\"k1\":{\"nestk1\":{\"doublenestk1\": \"That's a lot of nesting\"}}}"
   ]
  },
  {
   "cell_type": "markdown",
   "metadata": {},
   "source": [
    "How would we get the values of a nested dictionary? It is very similar to how we would get the elements of a nested list. We would use pairs of brackets after each other with the proper index, but in this case instead of numbers, the indices would be keys."
   ]
  },
  {
   "cell_type": "code",
   "execution_count": 49,
   "metadata": {},
   "outputs": [
    {
     "data": {
      "text/plain": [
       "\"That's a lot of nesting\""
      ]
     },
     "execution_count": 49,
     "metadata": {},
     "output_type": "execute_result"
    }
   ],
   "source": [
    "#Indexing nested dictionary\n",
    "my_dict[\"k1\"][\"nestk1\"][\"doublenestk1\"]"
   ]
  },
  {
   "cell_type": "markdown",
   "metadata": {},
   "source": [
    "## Dictionary Methods\n",
    "\n",
    "The **.items()** method will return a list of (key, value) tuple pairs."
   ]
  },
  {
   "cell_type": "code",
   "execution_count": 50,
   "metadata": {},
   "outputs": [],
   "source": [
    "#create dictionary\n",
    "my_dict = {\"key1\": 15, \"k2\": \"blah\", 47: (4,57,2), \"Greeting\": \"Hello, how are you\"}"
   ]
  },
  {
   "cell_type": "code",
   "execution_count": 51,
   "metadata": {},
   "outputs": [
    {
     "data": {
      "text/plain": [
       "dict_items([('key1', 15), ('k2', 'blah'), (47, (4, 57, 2)), ('Greeting', 'Hello, how are you')])"
      ]
     },
     "execution_count": 51,
     "metadata": {},
     "output_type": "execute_result"
    }
   ],
   "source": [
    "my_dict.items()"
   ]
  },
  {
   "cell_type": "markdown",
   "metadata": {},
   "source": [
    "The **.values()** will return a list of the values of a dictionary."
   ]
  },
  {
   "cell_type": "code",
   "execution_count": 53,
   "metadata": {},
   "outputs": [
    {
     "data": {
      "text/plain": [
       "dict_values([15, 'blah', (4, 57, 2), 'Hello, how are you'])"
      ]
     },
     "execution_count": 53,
     "metadata": {},
     "output_type": "execute_result"
    }
   ],
   "source": [
    "my_dict.values()"
   ]
  },
  {
   "cell_type": "markdown",
   "metadata": {},
   "source": [
    "The **.keys()** method will return all of the keys of a dictionary."
   ]
  },
  {
   "cell_type": "code",
   "execution_count": 54,
   "metadata": {},
   "outputs": [
    {
     "data": {
      "text/plain": [
       "dict_keys(['key1', 'k2', 47, 'Greeting'])"
      ]
     },
     "execution_count": 54,
     "metadata": {},
     "output_type": "execute_result"
    }
   ],
   "source": [
    "#use .keys() to get all of the keys\n",
    "my_dict.keys()"
   ]
  },
  {
   "cell_type": "markdown",
   "metadata": {},
   "source": [
    "## Optional Question\n",
    "\n",
    "1.\n",
    "\n",
    "2.\n",
    "\n",
    "3.\n",
    "\n",
    "4.\n",
    "\n",
    "5."
   ]
  }
 ],
 "metadata": {
  "kernelspec": {
   "display_name": "Python 3",
   "language": "python",
   "name": "python3"
  },
  "language_info": {
   "codemirror_mode": {
    "name": "ipython",
    "version": 3
   },
   "file_extension": ".py",
   "mimetype": "text/x-python",
   "name": "python",
   "nbconvert_exporter": "python",
   "pygments_lexer": "ipython3",
   "version": "3.6.1"
  }
 },
 "nbformat": 4,
 "nbformat_minor": 2
}
