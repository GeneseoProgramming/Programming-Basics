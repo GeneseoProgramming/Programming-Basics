{
 "cells": [
  {
   "cell_type": "markdown",
   "metadata": {},
   "source": [
    "# Lambda Functions\n",
    "\n",
    "In python, we can create these cool things called **lambda functions**. These are also called *anonymous functions*, because they do not need to be bound to a name. So what are the differences between a regular function and a lambda function? A big difference is that while a function can take a block of statements, a lambda function will only take one expression. Furthermore, lambda functions do not require **return** statements. The single expression of the lambda function will always be returned. Therefore, you can think of the body of a lambda function as what you would put in the return statement of a regular function.\n",
    "\n",
    "The syntax for a lambda function is as follows:\n",
    "\n",
    "**lambda** parameter(s): expression\n",
    "\n",
    "\n",
    "Let's look at some examples of lambda functions. We will create a lambda function that will multiply numbers by 2. However, first we will create a regular function that does the same thing to allow for comparison between the two."
   ]
  },
  {
   "cell_type": "code",
   "execution_count": 61,
   "metadata": {
    "collapsed": true
   },
   "outputs": [],
   "source": [
    "#regular function that multiplies numbers by two\n",
    "def doubler(x):\n",
    "    return x*2"
   ]
  },
  {
   "cell_type": "code",
   "execution_count": 62,
   "metadata": {},
   "outputs": [
    {
     "data": {
      "text/plain": [
       "6"
      ]
     },
     "execution_count": 62,
     "metadata": {},
     "output_type": "execute_result"
    }
   ],
   "source": [
    "#Check\n",
    "doubler(3)"
   ]
  },
  {
   "cell_type": "code",
   "execution_count": 63,
   "metadata": {
    "collapsed": true
   },
   "outputs": [],
   "source": [
    "#lambda function that multiplies numbers by two\n",
    "doubler = lambda x: x*2"
   ]
  },
  {
   "cell_type": "code",
   "execution_count": 64,
   "metadata": {},
   "outputs": [
    {
     "data": {
      "text/plain": [
       "6"
      ]
     },
     "execution_count": 64,
     "metadata": {},
     "output_type": "execute_result"
    }
   ],
   "source": [
    "#Check\n",
    "doubler(3)"
   ]
  },
  {
   "cell_type": "markdown",
   "metadata": {},
   "source": [
    "As you can see, our lambda function and our regular function did the same thing, but the code for the lambda function requires much less. Therefore, in many cases it may be better to use lambda functions over regular functions simply because of how easy they can be to write.\n",
    "\n",
    "## Lambda Function With Multiple Parameters\n",
    "\n",
    "We know that functions can take in multiple parameters, but can lambda functions do the same? The answer is yes! They can! Let's see how we do that. First, we will create a function with multiple parameters, and then create the lambda function equivalent. Our function and lambda function will take three parameters, **x**, **y**, and **z**, and will multiply the three together."
   ]
  },
  {
   "cell_type": "code",
   "execution_count": 57,
   "metadata": {
    "collapsed": true
   },
   "outputs": [],
   "source": [
    "#Function\n",
    "\n",
    "def multiplier(x,y,z):\n",
    "    return x*y*z"
   ]
  },
  {
   "cell_type": "code",
   "execution_count": 58,
   "metadata": {},
   "outputs": [
    {
     "data": {
      "text/plain": [
       "150"
      ]
     },
     "execution_count": 58,
     "metadata": {},
     "output_type": "execute_result"
    }
   ],
   "source": [
    "#Check\n",
    "multiplier(10,5,3)"
   ]
  },
  {
   "cell_type": "code",
   "execution_count": 59,
   "metadata": {
    "collapsed": true
   },
   "outputs": [],
   "source": [
    "#Lambda function\n",
    "\n",
    "multiplier = lambda x,y,z: x*y*z"
   ]
  },
  {
   "cell_type": "code",
   "execution_count": 60,
   "metadata": {},
   "outputs": [
    {
     "data": {
      "text/plain": [
       "150"
      ]
     },
     "execution_count": 60,
     "metadata": {},
     "output_type": "execute_result"
    }
   ],
   "source": [
    "#Check\n",
    "multiplier(10,5,3)"
   ]
  },
  {
   "cell_type": "markdown",
   "metadata": {},
   "source": [
    "Huzzah! It worked! So now we know that lambda functions can take multiple parameters.\n",
    "\n",
    "## Lambda Functions in User-Defined Functions\n",
    "\n",
    "Lambda functions can be used in many ways. However, I believe that showing you lambda functions within a regular function would be good for showing the usefulness of lambda functions.\n",
    "\n",
    "So how would this work? Well take a look at the example below and see if you can figure out what is going on."
   ]
  },
  {
   "cell_type": "code",
   "execution_count": 23,
   "metadata": {
    "collapsed": true
   },
   "outputs": [],
   "source": [
    "#Create function that will return a lambda function\n",
    "def make_multiplier(x):\n",
    "    return lambda y: x*y"
   ]
  },
  {
   "cell_type": "code",
   "execution_count": 26,
   "metadata": {
    "collapsed": true
   },
   "outputs": [],
   "source": [
    "#Assign these lambda functions to variables\n",
    "doubler = make_multiplier(2)\n",
    "tripler = make_multiplier(3)\n",
    "quadrupler = make_multiplier(4)"
   ]
  },
  {
   "cell_type": "code",
   "execution_count": 28,
   "metadata": {},
   "outputs": [
    {
     "name": "stdout",
     "output_type": "stream",
     "text": [
      "8 12 16\n"
     ]
    }
   ],
   "source": [
    "#Use the new functions you just made!\n",
    "print(doubler(4), tripler(4), quadrupler(4))"
   ]
  },
  {
   "cell_type": "markdown",
   "metadata": {},
   "source": [
    "If you don't understand what is going on, don't freak out...it's a bit tricky and I will do my best to break it down. First, we start of by defining a function called **make_multiplier()**. This function takes in one parameter, **x**. There is also only one statement to this function, and it is a return statement that returns a lambda function! The lambda function also takes in only one parameter, **y**. Being that we are returning a lambda function, when we assign the **make_multiplier()** function to a variable, what we are actually doing is assigning the lambda function that is being returned. So when we are assigning **make_multiplier(2)** to **doubler**, what we are actually doing is assigning **doubler** the lambda expression **lambda y: 2*y**. Similarly, **tripler** will be assigned **lambda y: 3*y**, and quadrupler will be assigned **lambda y: 4*y**. Therefore, doubler, tripler, and quadrupler are now there own functions that take in a single parameter, **y**, and multiply **y** by 2, 3, or 4, respectively. We see proof of that in the last cell which prints **doubler(4), tripler(4), quadrupler(4)** and the output gives us **8**, **12**, and **16**.\n",
    "\n",
    "\n",
    "\n",
    "## Nested Lambda Functions\n",
    "\n",
    "Lambda functionception! A lambda function in a lambda function! If you didn't understand that joke, you obviously have not watched inception... Also, it has been 7 years since that movie came out, and I still don't understand it, but I digress...ANYWAY, just like we can have nested if statements and loops, we can have nested lambda functions. Again, I will provide an example of this, and then we will break it down. I encourage you to try and understand the example by yourself before reading the explanation."
   ]
  },
  {
   "cell_type": "code",
   "execution_count": 39,
   "metadata": {},
   "outputs": [],
   "source": [
    "#Create our nested lambda function - the purpose of this is to multiply a function, F(x), by y.\n",
    "multiply_function = lambda F, y: lambda x: y * F(x)"
   ]
  },
  {
   "cell_type": "code",
   "execution_count": 40,
   "metadata": {
    "collapsed": true
   },
   "outputs": [],
   "source": [
    "#Create the lambda functions that will be used as \"F(x)\" in the nested function\n",
    "Function1 = lambda x: x**2 + x\n",
    "Function2 = lambda x: x**3 + 2*x**2 + x/2 + 7"
   ]
  },
  {
   "cell_type": "code",
   "execution_count": 55,
   "metadata": {},
   "outputs": [
    {
     "data": {
      "text/plain": [
       "770"
      ]
     },
     "execution_count": 55,
     "metadata": {},
     "output_type": "execute_result"
    }
   ],
   "source": [
    "#Check if it works with \"Function1\"\n",
    "multiply_function(F = Function1, y = 7)(x = 10)"
   ]
  },
  {
   "cell_type": "code",
   "execution_count": 45,
   "metadata": {},
   "outputs": [
    {
     "data": {
      "text/plain": [
       "8484.0"
      ]
     },
     "execution_count": 45,
     "metadata": {},
     "output_type": "execute_result"
    }
   ],
   "source": [
    "#Check if it works with \"Function2\"\n",
    "multiply_function(F = Function2, y =  7)(x = 10)"
   ]
  },
  {
   "cell_type": "markdown",
   "metadata": {},
   "source": [
    "Let's break this down. In our first cell, we assign **multiply_function** with a lambda function with another lambda function nested in it. The outer lambda function takes two parameters, **F** and **y**. The inner lambda function multiplies **y** by **F(x)**. This implies that **F(x)** will be its own function. Within the next cell we create the functions to be used for **F(x)**, and we call them **Function1** and **Function2**. **multiply_function** takes in three parameters, **F**, **y**, and **x**. In the next two cells, we can see how we supply these parameters. I made it obvious as to which parameters will take on what values by using equal signs within the parameter calls. This is not necessary, but was only done in order to make this example easier to understand. **F** will take one of the functions made, either **Function1** or **Function2**, being that they both use the parameter **x**. Then, I supplied 2 random numbers for **y** and **x**. \n",
    "\n",
    "\n",
    "## Map, Reduce, and Filter\n",
    "\n",
    "There are three functions that are used with lambda functions often: **map()**, **reduce()**, and **filter()**. I will not cover these, but I encourage you to look up how to use these functions yourself. For now, this is the concluding notebook for the Programming Basics collection of notebooks. However, in the future I, or another club member, may add to this collection and make a notebook on these three functions. I encourage you to make your own notebooks on any topic you find interesting and submit them to be uploaded to the GeneseoProgramming Github account to be shared."
   ]
  },
  {
   "cell_type": "markdown",
   "metadata": {},
   "source": [
    "## Optional Questions\n",
    "\n",
    "1.\n",
    "\n",
    "2.\n",
    "\n",
    "3.\n",
    "\n",
    "4.\n",
    "\n",
    "5."
   ]
  }
 ],
 "metadata": {
  "kernelspec": {
   "display_name": "Python 3",
   "language": "python",
   "name": "python3"
  },
  "language_info": {
   "codemirror_mode": {
    "name": "ipython",
    "version": 3
   },
   "file_extension": ".py",
   "mimetype": "text/x-python",
   "name": "python",
   "nbconvert_exporter": "python",
   "pygments_lexer": "ipython3",
   "version": "3.6.1"
  }
 },
 "nbformat": 4,
 "nbformat_minor": 2
}
