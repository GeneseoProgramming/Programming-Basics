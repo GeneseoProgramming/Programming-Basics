{
 "cells": [
  {
   "cell_type": "markdown",
   "metadata": {},
   "source": [
    "# List Comprehensions\n",
    "\n",
    "Python allows us to a *one line for loop* inside of brackets to create a list. The syntax for a list comprehension is:\n",
    "\n",
    "list = [statement **for** variable **in** object] \n",
    "\n",
    "Normally, if we wanted to create a list using a **for loop**, we would first create an empty list and then use the **.append()** or **.extend()** methods with a for loop to add elements to our list. However, by using a list comprehension, we can create a list and add our elements through a **for loop** all in one step.\n",
    "\n",
    "Lets look at an example of our normal method of creating a list and adding elements using a **for loop**."
   ]
  },
  {
   "cell_type": "code",
   "execution_count": 8,
   "metadata": {},
   "outputs": [
    {
     "data": {
      "text/plain": [
       "[0, 1, 2, 3, 4, 5, 6, 7, 8, 9, 10]"
      ]
     },
     "execution_count": 8,
     "metadata": {},
     "output_type": "execute_result"
    }
   ],
   "source": [
    "#Create empty list\n",
    "my_list = []\n",
    "\n",
    "#add elements (numbers 0 - 10) to list with for loop and .append() method\n",
    "for number in range(11):\n",
    "    my_list.append(number)\n",
    "\n",
    "#Check\n",
    "my_list"
   ]
  },
  {
   "cell_type": "markdown",
   "metadata": {},
   "source": [
    "As you can see, using the traditional method, we were able to add the numbers 0-10 to our list. Lets look at a much easier, quicker method to doing this - the list comprehension."
   ]
  },
  {
   "cell_type": "code",
   "execution_count": 21,
   "metadata": {},
   "outputs": [],
   "source": [
    "#list comprehension\n",
    "my_list_comp = [number for number in range(11)]"
   ]
  },
  {
   "cell_type": "code",
   "execution_count": 22,
   "metadata": {},
   "outputs": [
    {
     "name": "stdout",
     "output_type": "stream",
     "text": [
      "traditional method: [0, 1, 2, 3, 4, 5, 6, 7, 8, 9, 10]\n",
      "list comprehension method: [0, 1, 2, 3, 4, 5, 6, 7, 8, 9, 10]\n"
     ]
    }
   ],
   "source": [
    "#Check\n",
    "print(\"traditional method:\", my_list)\n",
    "print(\"list comprehension method:\", my_list_comp)"
   ]
  },
  {
   "cell_type": "markdown",
   "metadata": {},
   "source": [
    "As you can see, the two methods produced equivalent lists, but the list comprehension was much easier to code. Lets look at a more complicated example. Let's use a list comprehension to convert temperatures in Fahrenheit to Celsius. First let's make a list of temperatures in Fahrenheit. Then, use a list comprehension to create a new list of the same temperatures in Celsius. The formula for conversion is °C = (°F-32)*5/9"
   ]
  },
  {
   "cell_type": "code",
   "execution_count": 26,
   "metadata": {
    "collapsed": true
   },
   "outputs": [],
   "source": [
    "#list of fahrenheit temperature\n",
    "\n",
    "F_temp = [32, 50, 65, 67, 75, 83, 91, 77]\n",
    "\n",
    "#conversion to Celsius\n",
    "\n",
    "C_temp = [(temp-32)*5/9 for temp in F_temp]"
   ]
  },
  {
   "cell_type": "code",
   "execution_count": 27,
   "metadata": {},
   "outputs": [
    {
     "data": {
      "text/plain": [
       "[0.0,\n",
       " 10.0,\n",
       " 18.333333333333332,\n",
       " 19.444444444444443,\n",
       " 23.88888888888889,\n",
       " 28.333333333333332,\n",
       " 32.77777777777778,\n",
       " 25.0]"
      ]
     },
     "execution_count": 27,
     "metadata": {},
     "output_type": "execute_result"
    }
   ],
   "source": [
    "#Check\n",
    "C_temp"
   ]
  },
  {
   "cell_type": "markdown",
   "metadata": {},
   "source": [
    "## If Statements in List Comprehensions\n",
    "\n",
    "We can add if statements to our list comprehensions. Lets see how using an example where we create a list of only even numbers and a list of only odd numbers. We can separate evens from odds because even numbers will have no remainder when divided by two, while odds will always have a remainder of 1. Therefore we can say that a number should be added to our list only if its remainder when divided by 2 is 0."
   ]
  },
  {
   "cell_type": "code",
   "execution_count": 30,
   "metadata": {},
   "outputs": [],
   "source": [
    "#list of evens\n",
    "evens = [num for num in range(20) if num%2 == 0] #if remainder is 0\n",
    "odds = [num for num in range(20) if num%2 != 0] #if remainder is not 0"
   ]
  },
  {
   "cell_type": "code",
   "execution_count": 31,
   "metadata": {},
   "outputs": [
    {
     "name": "stdout",
     "output_type": "stream",
     "text": [
      "[0, 2, 4, 6, 8, 10, 12, 14, 16, 18]\n",
      "[1, 3, 5, 7, 9, 11, 13, 15, 17, 19]\n"
     ]
    }
   ],
   "source": [
    "print(evens)\n",
    "print(odds)"
   ]
  },
  {
   "cell_type": "markdown",
   "metadata": {},
   "source": [
    "## Nested List Comprehensions\n",
    "\n",
    "Similar to how we had nested statements, we can also have nested list comprehensions! Lets see an example and then go over the example."
   ]
  },
  {
   "cell_type": "code",
   "execution_count": 32,
   "metadata": {},
   "outputs": [
    {
     "data": {
      "text/plain": [
       "[0, 2, 16, 54, 128, 250, 432, 686, 1024, 1458, 2000]"
      ]
     },
     "execution_count": 32,
     "metadata": {},
     "output_type": "execute_result"
    }
   ],
   "source": [
    "my_list = [num*2 for num in [num**3 for num in range(11)]]\n",
    "\n",
    "my_list"
   ]
  },
  {
   "cell_type": "markdown",
   "metadata": {},
   "source": [
    "So let's breakdown what just happened. The best way to breakdown a nested list comprehensions is to go from inside to outside. So within the innermost brackets we have a list comprehensions that takes the numbers 0-10 and cubes all of them. After that, the list comprehension of the outer brackets takes all of the numbers of the list of cubed numbers and multiplies them by 2.\n",
    "\n",
    "Had we used the normal method (for loop and .append() method) we would have written many more lines of code. By using list comprehensions, we were able to cut down on multiple lines of code. However, it should be noted that the readability of list comprehensions is fairly poor. It is much harder to decipher list comprehensions than it is normal for loops. "
   ]
  },
  {
   "cell_type": "markdown",
   "metadata": {},
   "source": [
    "## Optional Questions\n",
    "\n",
    "1.\n",
    "\n",
    "2.\n",
    "\n",
    "3.\n",
    "\n",
    "4.\n",
    "\n",
    "5."
   ]
  },
  {
   "cell_type": "code",
   "execution_count": null,
   "metadata": {
    "collapsed": true
   },
   "outputs": [],
   "source": []
  }
 ],
 "metadata": {
  "kernelspec": {
   "display_name": "Python 3",
   "language": "python",
   "name": "python3"
  },
  "language_info": {
   "codemirror_mode": {
    "name": "ipython",
    "version": 3
   },
   "file_extension": ".py",
   "mimetype": "text/x-python",
   "name": "python",
   "nbconvert_exporter": "python",
   "pygments_lexer": "ipython3",
   "version": "3.6.1"
  }
 },
 "nbformat": 4,
 "nbformat_minor": 2
}
