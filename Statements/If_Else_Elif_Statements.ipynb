{
 "cells": [
  {
   "cell_type": "markdown",
   "metadata": {},
   "source": [
    "# If, Else, and Elif Statements\n",
    "\n",
    "## If Statements\n",
    "What is an **if statement**? An **if statement** allows for decision making in your code. It consists of a condition as well as statment(s) that will be executed if the condition hold true. The syntax for an if statement is below.\n",
    "\n",
    "**if** condition:\n",
    "\n",
    "    statment(s)\n",
    "    \n",
    "  \n",
    "Lets look at an example of an actual **if statement**    "
   ]
  },
  {
   "cell_type": "code",
   "execution_count": 5,
   "metadata": {},
   "outputs": [
    {
     "name": "stdout",
     "output_type": "stream",
     "text": [
      "z is 5\n"
     ]
    }
   ],
   "source": [
    "x = 10\n",
    "y = 15\n",
    "\n",
    "if x < y:\n",
    "    z = y - x\n",
    "    print(\"z is\", z)"
   ]
  },
  {
   "cell_type": "markdown",
   "metadata": {},
   "source": [
    "So our condition is if **x** is less than **y**. This statement is obviously true, being that **x** is 10 while **y** is 15. Because our condition was true it ran the two statements: **if x < y:**, and **print(\"z is\", z)**. We know this is true because instead of our output printed **z is 5**"
   ]
  },
  {
   "cell_type": "markdown",
   "metadata": {},
   "source": [
    "## Else Statements\n",
    "\n",
    "Our **if statement** allows us to to perform basic decision making by allowing us to execute statements based upon if a condition is true. However, this alone allows for only very simple decision making and will be inadequate in many situations. What if we want to execute other statements if the condition is false? Well we can do that by adding on an **else statement** to our if statement. The syntax is below.\n",
    "\n",
    "**if** condition:\n",
    "\n",
    "    statement(s)\n",
    "\n",
    "**else**:\n",
    "    \n",
    "    statement(s)\n",
    "    \n",
    "    \n",
    "\n",
    "Lets look at an example of an **else statement** by adding on to our previous **if statement**, and lets change the values of **x** and **y** so that the condition will be false and the statement of the **else statement** will be executed."
   ]
  },
  {
   "cell_type": "code",
   "execution_count": 10,
   "metadata": {},
   "outputs": [
    {
     "name": "stdout",
     "output_type": "stream",
     "text": [
      "else statement!\n"
     ]
    }
   ],
   "source": [
    "x = 20\n",
    "y = 5\n",
    "\n",
    "if x < y:\n",
    "    z = y - x\n",
    "    print(\"z is\", z)\n",
    "else:\n",
    "    print(\"else statement!\")"
   ]
  },
  {
   "cell_type": "markdown",
   "metadata": {},
   "source": [
    "As you can see, because the condition was false, the statements of the **if statement** were not run, but instead the statement of the **else statement** was run."
   ]
  },
  {
   "cell_type": "markdown",
   "metadata": {},
   "source": [
    "## Elif Statements\n",
    "\n",
    "Even with **else statements** our decision making is still too simple. What if we want to execute other statements if the condition is false, and if another condition is true? We can do this using the **elif statement**. If you are coming from another programming language, **elif** is the python equivalent of **else if** from other languages. The syntax is below.\n",
    "\n",
    "**if** condition:\n",
    "\n",
    "    statement(s)\n",
    "    \n",
    "**elif** other condition:\n",
    "\n",
    "    statement(s)\n",
    "    \n",
    "**else**:\n",
    "\n",
    "    statement(s)\n",
    "    \n",
    "Lets look at an example of an **elif statement**. Here we will set the a variable **x** to a random between 1 and 10. We will then set conditions based upon the possible values of **x** using **if elif** and **else statements**\n",
    "\n",
    "Notice that you can use more than elif statement"
   ]
  },
  {
   "cell_type": "code",
   "execution_count": 52,
   "metadata": {
    "collapsed": true
   },
   "outputs": [],
   "source": [
    "#import function from package that allows for random integer generator\n",
    "from random import randint"
   ]
  },
  {
   "cell_type": "code",
   "execution_count": 50,
   "metadata": {},
   "outputs": [
    {
     "name": "stdout",
     "output_type": "stream",
     "text": [
      "x is 7\n",
      "The condition for the second elif statement is true!\n"
     ]
    }
   ],
   "source": [
    "#Set x to random integer between 1 and 10\n",
    "\n",
    "x = randint(1, 10)\n",
    "print(\"x is\", x)\n",
    "\n",
    "#produce statement\n",
    "if 1 <= x <= 3:\n",
    "    \n",
    "    print(\"The condition for the if statement is true!\")\n",
    "    \n",
    "elif x == 4 or x == 5:\n",
    "    \n",
    "    print(\"The condition for the first elif statement is true!\")\n",
    "    \n",
    "elif x == 6 or x == 7:\n",
    "    \n",
    "    print(\"The condition for the second elif statement is true!\")\n",
    "    \n",
    "else:\n",
    "    \n",
    "    print(\"None of the conditions were true! Go to the else statement!\")"
   ]
  },
  {
   "cell_type": "markdown",
   "metadata": {},
   "source": [
    "Try running the above cell a few times and see how different statements are run based upon the value set to x!"
   ]
  },
  {
   "cell_type": "markdown",
   "metadata": {},
   "source": [
    "## Optional Question\n",
    "\n",
    "1.\n",
    "\n",
    "2.\n",
    "\n",
    "3.\n",
    "\n",
    "4.\n",
    "\n",
    "5."
   ]
  },
  {
   "cell_type": "code",
   "execution_count": null,
   "metadata": {
    "collapsed": true
   },
   "outputs": [],
   "source": []
  }
 ],
 "metadata": {
  "kernelspec": {
   "display_name": "Python 3",
   "language": "python",
   "name": "python3"
  },
  "language_info": {
   "codemirror_mode": {
    "name": "ipython",
    "version": 3
   },
   "file_extension": ".py",
   "mimetype": "text/x-python",
   "name": "python",
   "nbconvert_exporter": "python",
   "pygments_lexer": "ipython3",
   "version": "3.6.1"
  }
 },
 "nbformat": 4,
 "nbformat_minor": 2
}
