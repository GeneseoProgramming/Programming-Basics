{
 "cells": [
  {
   "cell_type": "markdown",
   "metadata": {},
   "source": [
    "# Operators\n",
    "\n",
    "In python, operators are symbols that can perform functions. These functions can be used to perform arithmetic, comparisons, or introduce logic into your code. We will go over arithmetic, assignment, conditional (or relational), and logical operators.\n",
    "\n",
    "The symbol itself is called the operator, while the objects that the operator operates on are called the operands.\n",
    "\n",
    "## Arithemetic\n",
    "\n",
    "We have already been over most of the arithmetic operators, as most of them are obvious. a **+** is used to add two operands, while a **-** is used to subtract one operand from another. Here is a table of the arithmetic operators. I won't be going over how to use these being that you should know how to from the *Numbers* notebook.\n",
    "\n",
    "|Operator Symbol |Usage  |\n",
    "|--------------------------------------------------|-----------------------------------------|\n",
    "|+|Add two operands|\n",
    "|-|Substract two operands|\n",
    "|/|Divide one operand by the other|\n",
    "|%|Give the remainder of division|\n",
    "|*|Multiply two operands\n",
    "|**|raise the left operand to the power of the right operand\n",
    "\n",
    "## Comparison Operators\n",
    "\n",
    "Comparison operators are used to compare two values. An obvious example of this is an equals sign. If the two operands on each side of the equals sign are in fact equal, the output will read True. In python, and many other programming languages, however, an equals sign is used to assign values to variables. In order to find out if two operands are equal, we use a double equals sign. An example of this can be seen in the cell below."
   ]
  },
  {
   "cell_type": "code",
   "execution_count": 4,
   "metadata": {},
   "outputs": [
    {
     "data": {
      "text/plain": [
       "True"
      ]
     },
     "execution_count": 4,
     "metadata": {},
     "output_type": "execute_result"
    }
   ],
   "source": [
    "4 == 2+2"
   ]
  },
  {
   "cell_type": "markdown",
   "metadata": {},
   "source": [
    "Other notable operators are the \"not equal to\" operator, the \"less than\" operator and the \"greater than\" operator. Examples are below"
   ]
  },
  {
   "cell_type": "code",
   "execution_count": 9,
   "metadata": {},
   "outputs": [
    {
     "data": {
      "text/plain": [
       "True"
      ]
     },
     "execution_count": 9,
     "metadata": {},
     "output_type": "execute_result"
    }
   ],
   "source": [
    "#Not equals \n",
    "a = 5\n",
    "b = \"hi\"\n",
    "a != b"
   ]
  },
  {
   "cell_type": "code",
   "execution_count": 10,
   "metadata": {},
   "outputs": [
    {
     "data": {
      "text/plain": [
       "False"
      ]
     },
     "execution_count": 10,
     "metadata": {},
     "output_type": "execute_result"
    }
   ],
   "source": [
    "#greater than\n",
    "5>7"
   ]
  },
  {
   "cell_type": "code",
   "execution_count": 11,
   "metadata": {},
   "outputs": [
    {
     "data": {
      "text/plain": [
       "True"
      ]
     },
     "execution_count": 11,
     "metadata": {},
     "output_type": "execute_result"
    }
   ],
   "source": [
    "#less than\n",
    "5<7"
   ]
  },
  {
   "cell_type": "markdown",
   "metadata": {},
   "source": [
    "Here is a table of commonly used comparison operators.\n",
    "\n",
    "|Symbol|Usage|\n",
    "|------|-----|\n",
    "|==| Will return True if the left operand is equal to the right|\n",
    "|!=| Will return True if the left operand is not equal to the right|\n",
    "|>| Will return True if the left operand is greater than the right|\n",
    "|<| Will return True if the left operand is less than the right|\n",
    "|>=| Will return True if the left operand is greater than or equal to the right|\n",
    "|<=| Will return True if the lefgt operand is less than or equal to the right|"
   ]
  },
  {
   "cell_type": "markdown",
   "metadata": {},
   "source": [
    "## Logical Operators\n",
    "\n",
    "There are 3 logical operators: **and**, **or**, and **not**. These operators are generally used in conjunction with a comparison operator. The **and** operator will return true if both the operands are True, the **or** operator will return True if at least one of the operators is True, and the **not** operator is used to reverse the logical state of an operand. If the operation should output True, the **not** will cause the operation to return False. This may be confusing from just reading so please carefully analyze the examples below."
   ]
  },
  {
   "cell_type": "code",
   "execution_count": 72,
   "metadata": {},
   "outputs": [
    {
     "data": {
      "text/plain": [
       "False"
      ]
     },
     "execution_count": 72,
     "metadata": {},
     "output_type": "execute_result"
    }
   ],
   "source": [
    "#and\n",
    "1 > 7 and 4 > 2"
   ]
  },
  {
   "cell_type": "code",
   "execution_count": 64,
   "metadata": {},
   "outputs": [
    {
     "data": {
      "text/plain": [
       "True"
      ]
     },
     "execution_count": 64,
     "metadata": {},
     "output_type": "execute_result"
    }
   ],
   "source": [
    "#or\n",
    "\n",
    "1 > 7 or 4 > 2"
   ]
  },
  {
   "cell_type": "code",
   "execution_count": 69,
   "metadata": {},
   "outputs": [
    {
     "data": {
      "text/plain": [
       "True"
      ]
     },
     "execution_count": 69,
     "metadata": {},
     "output_type": "execute_result"
    }
   ],
   "source": [
    "#not\n",
    "\n",
    "not 1 > 7"
   ]
  },
  {
   "cell_type": "code",
   "execution_count": 70,
   "metadata": {},
   "outputs": [
    {
     "data": {
      "text/plain": [
       "False"
      ]
     },
     "execution_count": 70,
     "metadata": {},
     "output_type": "execute_result"
    }
   ],
   "source": [
    "#not again\n",
    "not 4 > 2"
   ]
  },
  {
   "cell_type": "markdown",
   "metadata": {},
   "source": [
    "Here is a table of the 3 Logical operators\n",
    "\n",
    "|Operator|Usage|\n",
    "|--------|-----|\n",
    "|and|True if both operands are true|\n",
    "|or| True if at least one operand is true|\n",
    "|not|Will make something normally true become false and something normally false to become true|"
   ]
  },
  {
   "cell_type": "markdown",
   "metadata": {},
   "source": [
    "## Identity Operators\n",
    "\n",
    "The two identity operators are **is** and **is not**. They are used to check if two operands are identical. It is important to note that operands that are equal are not necessarily identical. In order for two operands to be identical, they must refer to the same object, meaning that they must be located on the same part of the memory. We will explore this further after looking at how the operators work."
   ]
  },
  {
   "cell_type": "code",
   "execution_count": 73,
   "metadata": {
    "collapsed": true
   },
   "outputs": [],
   "source": [
    "x = 5\n",
    "y = 5\n",
    "z = 10"
   ]
  },
  {
   "cell_type": "code",
   "execution_count": 74,
   "metadata": {},
   "outputs": [
    {
     "data": {
      "text/plain": [
       "True"
      ]
     },
     "execution_count": 74,
     "metadata": {},
     "output_type": "execute_result"
    }
   ],
   "source": [
    "#is\n",
    "x is y"
   ]
  },
  {
   "cell_type": "code",
   "execution_count": 75,
   "metadata": {},
   "outputs": [
    {
     "data": {
      "text/plain": [
       "False"
      ]
     },
     "execution_count": 75,
     "metadata": {},
     "output_type": "execute_result"
    }
   ],
   "source": [
    "#is again\n",
    "x is not y"
   ]
  },
  {
   "cell_type": "code",
   "execution_count": 76,
   "metadata": {},
   "outputs": [
    {
     "data": {
      "text/plain": [
       "True"
      ]
     },
     "execution_count": 76,
     "metadata": {},
     "output_type": "execute_result"
    }
   ],
   "source": [
    "#is not\n",
    "x is not z"
   ]
  },
  {
   "cell_type": "code",
   "execution_count": 77,
   "metadata": {},
   "outputs": [
    {
     "data": {
      "text/plain": [
       "False"
      ]
     },
     "execution_count": 77,
     "metadata": {},
     "output_type": "execute_result"
    }
   ],
   "source": [
    "x is not y"
   ]
  },
  {
   "cell_type": "markdown",
   "metadata": {},
   "source": [
    "Here is a table of the identity operators\n",
    "\n",
    "|operator|usage|\n",
    "|--------|-----|\n",
    "|is| Will return True if the two operands are identical|\n",
    "|is not| Will return True if the two operands are not identical|"
   ]
  },
  {
   "cell_type": "markdown",
   "metadata": {},
   "source": [
    "### Identical vs Equal\n",
    "\n",
    "In the example above, x and y were identical. They both referred to the same object - the value 5. However if we make two lists that are equal, they will not be considered identical. See below."
   ]
  },
  {
   "cell_type": "code",
   "execution_count": 100,
   "metadata": {},
   "outputs": [
    {
     "data": {
      "text/plain": [
       "True"
      ]
     },
     "execution_count": 100,
     "metadata": {},
     "output_type": "execute_result"
    }
   ],
   "source": [
    "list_1 = [0,1,2,3,4,5]\n",
    "list_2 = [0,1,2,3,4,5]\n",
    "list_1 == list_2"
   ]
  },
  {
   "cell_type": "code",
   "execution_count": 101,
   "metadata": {},
   "outputs": [
    {
     "data": {
      "text/plain": [
       "False"
      ]
     },
     "execution_count": 101,
     "metadata": {},
     "output_type": "execute_result"
    }
   ],
   "source": [
    "list_1 is list_2"
   ]
  },
  {
   "cell_type": "markdown",
   "metadata": {},
   "source": [
    "Why is this false? As we know, lists are changeable - the objects contained within a list can be changed, and the order as well. Therefore, these two lists, though made up of the same parts in the same order, are not stored in the same part of the memory and are not identical. However if we were to say that list_1 = list_2, then the two would be identical because they would now be stored in the same part of the computer's memory. "
   ]
  },
  {
   "cell_type": "code",
   "execution_count": 102,
   "metadata": {},
   "outputs": [
    {
     "data": {
      "text/plain": [
       "True"
      ]
     },
     "execution_count": 102,
     "metadata": {},
     "output_type": "execute_result"
    }
   ],
   "source": [
    "list_1 = list_2\n",
    "list_1 is list_2"
   ]
  },
  {
   "cell_type": "markdown",
   "metadata": {},
   "source": [
    "Tuples are immutable, but two equal tuples are not identical. Even though they may be made up of the same constituents, the tuples are not stored in the same part of the memory and are therefore, not identical."
   ]
  },
  {
   "cell_type": "code",
   "execution_count": 99,
   "metadata": {},
   "outputs": [
    {
     "data": {
      "text/plain": [
       "True"
      ]
     },
     "execution_count": 99,
     "metadata": {},
     "output_type": "execute_result"
    }
   ],
   "source": [
    "tuple_1 = (1,2,3)\n",
    "tuple_2 = (1,2,3)\n",
    "tuple_1 == tuple_2"
   ]
  },
  {
   "cell_type": "code",
   "execution_count": 103,
   "metadata": {},
   "outputs": [
    {
     "data": {
      "text/plain": [
       "False"
      ]
     },
     "execution_count": 103,
     "metadata": {},
     "output_type": "execute_result"
    }
   ],
   "source": [
    "tuple_1 is tuple_2"
   ]
  },
  {
   "cell_type": "markdown",
   "metadata": {},
   "source": [
    "## Membership Operators\n",
    "\n",
    "The two membership operators are **in** and **not in**. They are used to find if an object is found within or not within some sort of sequence - strings (a string is a sequence of characters), sets, dictionaries, lists, or tuples."
   ]
  },
  {
   "cell_type": "code",
   "execution_count": 112,
   "metadata": {
    "collapsed": true
   },
   "outputs": [],
   "source": [
    "x = 5\n",
    "a = (2, 7, 9, \"hi\", 45, \"OPERATORS!!!\")\n",
    "b = [27, 5, 58]"
   ]
  },
  {
   "cell_type": "code",
   "execution_count": 113,
   "metadata": {},
   "outputs": [
    {
     "data": {
      "text/plain": [
       "True"
      ]
     },
     "execution_count": 113,
     "metadata": {},
     "output_type": "execute_result"
    }
   ],
   "source": [
    "#in\n",
    "\"OPERATORS!!!\" in a"
   ]
  },
  {
   "cell_type": "code",
   "execution_count": 115,
   "metadata": {},
   "outputs": [
    {
     "data": {
      "text/plain": [
       "False"
      ]
     },
     "execution_count": 115,
     "metadata": {},
     "output_type": "execute_result"
    }
   ],
   "source": [
    "#in again\n",
    "x in a"
   ]
  },
  {
   "cell_type": "code",
   "execution_count": 116,
   "metadata": {},
   "outputs": [
    {
     "data": {
      "text/plain": [
       "True"
      ]
     },
     "execution_count": 116,
     "metadata": {},
     "output_type": "execute_result"
    }
   ],
   "source": [
    "#not in\n",
    "x not in a"
   ]
  },
  {
   "cell_type": "code",
   "execution_count": 117,
   "metadata": {},
   "outputs": [
    {
     "data": {
      "text/plain": [
       "False"
      ]
     },
     "execution_count": 117,
     "metadata": {},
     "output_type": "execute_result"
    }
   ],
   "source": [
    "#not in again\n",
    "x not in b"
   ]
  },
  {
   "cell_type": "markdown",
   "metadata": {},
   "source": [
    "## Optional Questions\n",
    "\n",
    "1.\n",
    "\n",
    "2.\n",
    "\n",
    "3.\n",
    "\n",
    "4.\n",
    "\n",
    "5."
   ]
  },
  {
   "cell_type": "code",
   "execution_count": null,
   "metadata": {
    "collapsed": true
   },
   "outputs": [],
   "source": []
  }
 ],
 "metadata": {
  "kernelspec": {
   "display_name": "Python 3",
   "language": "python",
   "name": "python3"
  },
  "language_info": {
   "codemirror_mode": {
    "name": "ipython",
    "version": 3
   },
   "file_extension": ".py",
   "mimetype": "text/x-python",
   "name": "python",
   "nbconvert_exporter": "python",
   "pygments_lexer": "ipython3",
   "version": "3.6.1"
  }
 },
 "nbformat": 4,
 "nbformat_minor": 2
}
