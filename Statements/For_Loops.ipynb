{
 "cells": [
  {
   "cell_type": "markdown",
   "metadata": {},
   "source": [
    "# For Loops\n",
    "\n",
    "A **for loops** is used to *iterate* over, or to repeat over, items of an *iterable*. The actual definition of an *iterable* is anything with an **__**iter**__** method, but to most of you, this won't really mean anything or make much sense.  So instead we can crudely define an *iterable* is an object that contains multiple items. These items can be integers, floats, strings, characters, or other items. Strings, lists, tuples, dictionaries, sets, pretty much any data structure, and even read-in file objects such as .txt files, or .csv files.\n",
    "\n",
    "Here is the basic syntax for a **for loop**\n",
    "\n",
    "**for** variable **in** object:\n",
    "\n",
    "    statement(s)\n",
    "    \n",
    "\n",
    "The name of the variable can be whatever you decide it to be; they do not and should not be previously defined. You may want to reference the variable inside of your for loop so it is best to choose a name that makes sense.\n",
    "\n",
    "It is understandable if you have no idea what a for loop is at this point, as the best way to understand for loops is through explanation of examples.\n",
    "\n",
    "## Example 1: Basic for loop\n",
    "\n",
    "In this example, we will iterate over a list that contains the numbers 1-4. For each item in the list, we will print that item."
   ]
  },
  {
   "cell_type": "code",
   "execution_count": 10,
   "metadata": {},
   "outputs": [
    {
     "data": {
      "text/plain": [
       "[1, 2, 3, 4]"
      ]
     },
     "execution_count": 10,
     "metadata": {},
     "output_type": "execute_result"
    }
   ],
   "source": [
    "#Create list and check\n",
    "my_list = [1,2,3,4]\n",
    "my_list"
   ]
  },
  {
   "cell_type": "code",
   "execution_count": 11,
   "metadata": {},
   "outputs": [
    {
     "name": "stdout",
     "output_type": "stream",
     "text": [
      "1\n",
      "2\n",
      "3\n",
      "4\n"
     ]
    }
   ],
   "source": [
    "#for loop\n",
    "\n",
    "for item in my_list:\n",
    "    print(item)"
   ]
  },
  {
   "cell_type": "markdown",
   "metadata": {},
   "source": [
    "We were able to print every item within our list through this simple for loop. I chose the variable *item* because it made sense. However, I could have named it anything. See below for clarification."
   ]
  },
  {
   "cell_type": "code",
   "execution_count": 12,
   "metadata": {},
   "outputs": [
    {
     "name": "stdout",
     "output_type": "stream",
     "text": [
      "1\n",
      "2\n",
      "3\n",
      "4\n"
     ]
    }
   ],
   "source": [
    "for blah in my_list:\n",
    "    print(blah)"
   ]
  },
  {
   "cell_type": "markdown",
   "metadata": {},
   "source": [
    "As you can see, for both variables, the same output was given. The variable name does not matter as long as you are consistent with it throughout the loop."
   ]
  },
  {
   "cell_type": "markdown",
   "metadata": {},
   "source": [
    "## Example 2: A for loop will loop for as many items in an object\n",
    "\n",
    "We saw before that the for loop printed out each item in our list, but be sure to understand that the statements within the for loop do not have to do anything with the object being iterated over at all. See below for clarification."
   ]
  },
  {
   "cell_type": "code",
   "execution_count": 13,
   "metadata": {},
   "outputs": [
    {
     "name": "stdout",
     "output_type": "stream",
     "text": [
      "This has nothing to do with my_list\n",
      "This has nothing to do with my_list\n",
      "This has nothing to do with my_list\n",
      "This has nothing to do with my_list\n"
     ]
    }
   ],
   "source": [
    "for item in my_list:\n",
    "    print(\"This has nothing to do with my_list\")\n",
    "    "
   ]
  },
  {
   "cell_type": "markdown",
   "metadata": {},
   "source": [
    "In this example, the for loop printed out a string 4 times. The string was printed out 4 times because there were 4 items within the object that was being iterated over.\n",
    "\n",
    "## Example 3: a more complex for loop\n",
    "\n",
    "Lets make a short program that separates 20 even and odd numbers into two separate lists. We can do this by first making a list of numbers from 1 to 20. Then we can create two empty lists that will hold our even and odd numbers. Then we can create a for loop that sends the numbers within our original list into the list for even or odd numbers based upon its divisibility by 2."
   ]
  },
  {
   "cell_type": "code",
   "execution_count": 32,
   "metadata": {},
   "outputs": [
    {
     "data": {
      "text/plain": [
       "[1, 2, 3, 4, 5, 6, 7, 8, 9, 10, 11, 12, 13, 14, 15, 16, 17, 18, 19, 20]"
      ]
     },
     "execution_count": 32,
     "metadata": {},
     "output_type": "execute_result"
    }
   ],
   "source": [
    "#Make our list of 100 numbers\n",
    "\n",
    "numbers = list(range(1,21)) #The range function goes from the first number to the second number - 1\n",
    "numbers"
   ]
  },
  {
   "cell_type": "code",
   "execution_count": 38,
   "metadata": {},
   "outputs": [
    {
     "name": "stdout",
     "output_type": "stream",
     "text": [
      "[2, 4, 6, 8, 10, 12, 14, 16, 18, 20]\n",
      "[1, 3, 5, 7, 9, 11, 13, 15, 17, 19]\n"
     ]
    }
   ],
   "source": [
    "#Make two empty lists. 1 for evens, 1 for odds\n",
    "\n",
    "evens = []\n",
    "odds = []\n",
    "\n",
    "#Separate evens and odds with for loop\n",
    "\n",
    "for num in numbers:\n",
    "    if num % 2 == 0: #if the remainder after being divided by 2 is 0\n",
    "        evens.append(num) #add the number to the list called \"evens\"\n",
    "    else: #if the remainder after being divided by 2 is not 0\n",
    "        odds.append(num) #add the number to the list called \"odds\"\n",
    "\n",
    "print(evens) #now print the list called \"evens\" after having the even numbers added to it\n",
    "print(odds) #do the same with the list called \"odds\""
   ]
  },
  {
   "cell_type": "markdown",
   "metadata": {},
   "source": [
    "## For loops with other objects\n",
    "\n",
    "### For loop over a string\n",
    "\n",
    "A for loop with the object being a string will iterate over the characters of that string. Below is an example of that."
   ]
  },
  {
   "cell_type": "code",
   "execution_count": 40,
   "metadata": {},
   "outputs": [
    {
     "name": "stdout",
     "output_type": "stream",
     "text": [
      "l\n",
      "o\n",
      "o\n",
      "p\n",
      " \n",
      "o\n",
      "v\n",
      "e\n",
      "r\n",
      " \n",
      "a\n",
      " \n",
      "s\n",
      "t\n",
      "r\n",
      "i\n",
      "n\n",
      "g\n",
      "!\n"
     ]
    }
   ],
   "source": [
    "#create string\n",
    "my_string = \"loop over a string!\"\n",
    "\n",
    "for character in my_string:\n",
    "    print(character)"
   ]
  },
  {
   "cell_type": "markdown",
   "metadata": {},
   "source": [
    "### For loop over a tuple\n",
    "\n",
    "Looping over a tuple is pretty much the same as looping over a list."
   ]
  },
  {
   "cell_type": "code",
   "execution_count": 43,
   "metadata": {},
   "outputs": [
    {
     "name": "stdout",
     "output_type": "stream",
     "text": [
      "101\n",
      "102\n",
      "103\n",
      "104\n",
      "105\n"
     ]
    }
   ],
   "source": [
    "#create tuple\n",
    "my_tuple = (1, 2, 3, 4, 5)\n",
    "\n",
    "for t in my_tuple:\n",
    "    x = t + 100\n",
    "    print(x)"
   ]
  },
  {
   "cell_type": "markdown",
   "metadata": {},
   "source": [
    "## Looping over nested objects\n",
    "\n",
    "The examples will show you how to unpack and loop through nested objects. The first example will show you what happens if we just loop normally"
   ]
  },
  {
   "cell_type": "code",
   "execution_count": 72,
   "metadata": {},
   "outputs": [
    {
     "data": {
      "text/plain": [
       "[[1, 2], [3, 4], (5, 6)]"
      ]
     },
     "execution_count": 72,
     "metadata": {},
     "output_type": "execute_result"
    }
   ],
   "source": [
    "my_list = [[1,2], [3,4], (5,6)]\n",
    "my_list"
   ]
  },
  {
   "cell_type": "code",
   "execution_count": 73,
   "metadata": {},
   "outputs": [
    {
     "name": "stdout",
     "output_type": "stream",
     "text": [
      "[1, 2]\n",
      "[3, 4]\n",
      "(5, 6)\n"
     ]
    }
   ],
   "source": [
    "#normal iteration\n",
    "for item in my_list:\n",
    "    print(item)"
   ]
  },
  {
   "cell_type": "markdown",
   "metadata": {},
   "source": [
    "The above example shows that if we iterate normally, we will iterate over the objects contained within our list, but the items that are nested within the objects are not accesible. However, there is a simple method for accessing these items called unpacking. Below is an example of unpacking"
   ]
  },
  {
   "cell_type": "code",
   "execution_count": 79,
   "metadata": {},
   "outputs": [
    {
     "name": "stdout",
     "output_type": "stream",
     "text": [
      "this is item1: 1\n",
      "this is item2: 2\n",
      "this is item1: 3\n",
      "this is item2: 4\n",
      "this is item1: 5\n",
      "this is item2: 6\n"
     ]
    }
   ],
   "source": [
    "#unpacking\n",
    "for item1, item2 in my_list:\n",
    "    print(\"this is item1:\", item1)\n",
    "    print(\"this is item2:\", item2)"
   ]
  },
  {
   "cell_type": "markdown",
   "metadata": {},
   "source": [
    "Notice that the object types within the list do not necessarily have to be the same. In this case **my_list** has nested lists as well as tuples. However, the length of each of these nested objects must be the same. As proof, an example of what happens when the lengths are not the same is below."
   ]
  },
  {
   "cell_type": "code",
   "execution_count": 85,
   "metadata": {},
   "outputs": [
    {
     "name": "stdout",
     "output_type": "stream",
     "text": [
      "1 2\n",
      "3 4\n"
     ]
    },
    {
     "ename": "ValueError",
     "evalue": "too many values to unpack (expected 2)",
     "output_type": "error",
     "traceback": [
      "\u001b[0;31m---------------------------------------------------------------------------\u001b[0m",
      "\u001b[0;31mValueError\u001b[0m                                Traceback (most recent call last)",
      "\u001b[0;32m<ipython-input-85-ff0b047d4ef7>\u001b[0m in \u001b[0;36m<module>\u001b[0;34m()\u001b[0m\n\u001b[1;32m      3\u001b[0m \u001b[0;34m\u001b[0m\u001b[0m\n\u001b[1;32m      4\u001b[0m \u001b[0;31m#unpack and loop\u001b[0m\u001b[0;34m\u001b[0m\u001b[0;34m\u001b[0m\u001b[0m\n\u001b[0;32m----> 5\u001b[0;31m \u001b[0;32mfor\u001b[0m \u001b[0mitem1\u001b[0m\u001b[0;34m,\u001b[0m \u001b[0mitem2\u001b[0m \u001b[0;32min\u001b[0m \u001b[0mmy_list\u001b[0m\u001b[0;34m:\u001b[0m\u001b[0;34m\u001b[0m\u001b[0m\n\u001b[0m\u001b[1;32m      6\u001b[0m     \u001b[0mprint\u001b[0m\u001b[0;34m(\u001b[0m\u001b[0mitem1\u001b[0m\u001b[0;34m,\u001b[0m \u001b[0mitem2\u001b[0m\u001b[0;34m)\u001b[0m\u001b[0;34m\u001b[0m\u001b[0m\n",
      "\u001b[0;31mValueError\u001b[0m: too many values to unpack (expected 2)"
     ]
    }
   ],
   "source": [
    "#create a list with nested objects of uneven length\n",
    "my_list = [[1,2], (3,4), {5, 6, 7}]\n",
    "\n",
    "#unpack and loop\n",
    "for item1, item2 in my_list:\n",
    "    print(item1, item2)"
   ]
  },
  {
   "cell_type": "markdown",
   "metadata": {},
   "source": [
    "The loop worked for the first two iterations over the first two objects, but an error occured when the third iteration occured because the third object was of different length than the first two."
   ]
  },
  {
   "cell_type": "markdown",
   "metadata": {},
   "source": [
    "## For loops with dictionaries\n",
    "\n",
    "A dictionary contains keys and values in no particular order. Also there are two things being stored, keys and values. Both of these things makes looping over dictionaries tricky. In order to do so, we need to use the **.items()** method. If you are using python 2 then instead of **.items()**, use **.iteritems()** Also we need to use the tool we just learned, unpacking. First lets look at an example for what happens when we normally loop over a dictionary"
   ]
  },
  {
   "cell_type": "code",
   "execution_count": 99,
   "metadata": {
    "collapsed": true
   },
   "outputs": [],
   "source": [
    "#create dictionary\n",
    "my_dict = {\"key1\":1, \"key2\": \"hi\", \"key3\": 47}"
   ]
  },
  {
   "cell_type": "code",
   "execution_count": 101,
   "metadata": {},
   "outputs": [
    {
     "name": "stdout",
     "output_type": "stream",
     "text": [
      "key1\n",
      "key2\n",
      "key3\n"
     ]
    }
   ],
   "source": [
    "my_dict[\"key1\"]\n",
    "\n",
    "for item in my_dict:\n",
    "    print(item)\n",
    "  "
   ]
  },
  {
   "cell_type": "markdown",
   "metadata": {},
   "source": [
    "In the above example, only the keys were printed out. Now lets use the **.items()** method and see what happens."
   ]
  },
  {
   "cell_type": "code",
   "execution_count": 102,
   "metadata": {},
   "outputs": [
    {
     "name": "stdout",
     "output_type": "stream",
     "text": [
      "('key1', 1)\n",
      "('key2', 'hi')\n",
      "('key3', 47)\n"
     ]
    }
   ],
   "source": [
    "for item in my_dict.items():\n",
    "        print(item)"
   ]
  },
  {
   "cell_type": "markdown",
   "metadata": {},
   "source": [
    "We were able to print the keys and the values! the **.items()** method allowed for all of the items within the dictionary to be printed. However, how do we access each key and item individually? In order to do this, we would use the tool we just learned, unpacking. The example below will use the **.items()** method as well as unpacking in order to access both the keys and values individually."
   ]
  },
  {
   "cell_type": "code",
   "execution_count": 106,
   "metadata": {},
   "outputs": [
    {
     "name": "stdout",
     "output_type": "stream",
     "text": [
      "key1\n",
      "1\n",
      "key2\n",
      "hi\n",
      "key3\n",
      "47\n"
     ]
    }
   ],
   "source": [
    "for key, value in my_dict.items():\n",
    "    print(key)\n",
    "    print(value)"
   ]
  },
  {
   "cell_type": "markdown",
   "metadata": {},
   "source": [
    "## The range() function\n",
    "\n",
    "The **range()** function is very useful tool for **for loops**. The **range()** function is used to generate a sequence of numbers. The syntax is below\n",
    "\n",
    "    range(start, stop, step)\n",
    "\n",
    "        start = the starting value to start generating numbers at (inclusive).\n",
    "        stop = the value at which to stop generating numbers at (exclusive - will stop at 1 before this number).\n",
    "        step = the difference between adjacent numbers in the sequence\n",
    "\n",
    "If only one parameter is given, it will be assumed that it is the stop value, and the start value will be assumed to be 0.\n",
    "\n",
    "Lets see a few examples of how we can use the range function."
   ]
  },
  {
   "cell_type": "code",
   "execution_count": 109,
   "metadata": {},
   "outputs": [
    {
     "data": {
      "text/plain": [
       "[1, 2, 3, 4, 5, 6, 7, 8, 9, 10]"
      ]
     },
     "execution_count": 109,
     "metadata": {},
     "output_type": "execute_result"
    }
   ],
   "source": [
    "#example 1\n",
    "list(range(1,11))"
   ]
  },
  {
   "cell_type": "code",
   "execution_count": 111,
   "metadata": {},
   "outputs": [
    {
     "data": {
      "text/plain": [
       "(2, 4, 6, 8, 10)"
      ]
     },
     "execution_count": 111,
     "metadata": {},
     "output_type": "execute_result"
    }
   ],
   "source": [
    "#example 2\n",
    "tuple(range(2,11,2))"
   ]
  },
  {
   "cell_type": "code",
   "execution_count": 115,
   "metadata": {},
   "outputs": [
    {
     "data": {
      "text/plain": [
       "[0, 1, 2, 3, 4, 5, 6, 7, 8, 9, 10, 11, 12, 13, 14, 15, 16, 17, 18, 19]"
      ]
     },
     "execution_count": 115,
     "metadata": {},
     "output_type": "execute_result"
    }
   ],
   "source": [
    "#example 3\n",
    "list(range(20))"
   ]
  },
  {
   "cell_type": "markdown",
   "metadata": {},
   "source": [
    "Now lets see an example of how we can use the range function in a **for loop**"
   ]
  },
  {
   "cell_type": "code",
   "execution_count": 117,
   "metadata": {},
   "outputs": [
    {
     "name": "stdout",
     "output_type": "stream",
     "text": [
      "This is iteration 0\n",
      "This is iteration 1\n",
      "This is iteration 2\n",
      "This is iteration 3\n",
      "This is iteration 4\n",
      "This is iteration 5\n",
      "This is iteration 6\n",
      "This is iteration 7\n",
      "This is iteration 8\n",
      "This is iteration 9\n",
      "This is iteration 10\n"
     ]
    }
   ],
   "source": [
    "for i in range(11):\n",
    "    print(\"This is iteration\", i)"
   ]
  },
  {
   "cell_type": "markdown",
   "metadata": {},
   "source": [
    "## Optional Questions\n",
    "\n",
    "1. Create a for loop that prints \"Hello\" 5 times\n",
    "\n",
    "2. Write a for loop that takes the square root of integers from 10 to 1 and prints them out\n",
    "\n",
    "3. Create a list of even integers from 0 to 100 using the **range()** function. Then use a for loop to reassign the items of that list with the squares of the items.\n",
    "\n",
    "4. Create a string of your choice. Then, using a for loop, sort the characters into two lists based upon whether they are vowels or consonants (make your string one word).\n",
    "\n",
    "5. Write a program that prints the first 10 numbers of the fibonacci sequence."
   ]
  },
  {
   "cell_type": "code",
   "execution_count": null,
   "metadata": {
    "collapsed": true
   },
   "outputs": [],
   "source": []
  }
 ],
 "metadata": {
  "kernelspec": {
   "display_name": "Python 3",
   "language": "python",
   "name": "python3"
  },
  "language_info": {
   "codemirror_mode": {
    "name": "ipython",
    "version": 3
   },
   "file_extension": ".py",
   "mimetype": "text/x-python",
   "name": "python",
   "nbconvert_exporter": "python",
   "pygments_lexer": "ipython3",
   "version": "3.6.1"
  }
 },
 "nbformat": 4,
 "nbformat_minor": 2
}
