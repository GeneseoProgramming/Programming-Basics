{
 "cells": [
  {
   "cell_type": "markdown",
   "metadata": {},
   "source": [
    "# Generators\n",
    "\n",
    "## Iteration, Iterables, and Iterators\n",
    "\n",
    "\n",
    "Before we start dealing with code, we should define some terms first. We willl define what the terms: **iteration**, **iterable**, and **iterator**. We will not go over how to create our own iterable classes or iterator classes, but we will use built-in iterables (strings, lists, etc.) to create iterators.\n",
    "\n",
    "**Iteration** is a term that is used traditionally with loops. By iterating over a group of items, you perform a set of instructions over each item.\n",
    "\n",
    "An **iterable** is an object that contains an \\__iter\\__ method which returns an iterator. They also have a \\__getitem\\__  method that allows for indexing.  You can just think of iterables as anything that can be used in a for loop. This includes lists, dictionaries, sets, tuples, and strings. These object types can all be indexed, and therefore can be iterated over in a for loop.\n",
    "\n",
    "An **iterator** is produced from an iterable when they are passed to the \\__iter\\__ method or the iter() function. Iterators have an internal state that tracks the position that the iterator currently holds. They also have a \\__next\\__ method that returns the item the iterator is currently on and updates the state. You can also use a next() function to return the current item and update the state.\n",
    "\n",
    "Below we will create an iterable (a string) and use the iter() function to create an iterator."
   ]
  },
  {
   "cell_type": "code",
   "execution_count": 120,
   "metadata": {
    "collapsed": true
   },
   "outputs": [],
   "source": [
    "#Create iteratable (string)\n",
    "\n",
    "s = \"Hello\""
   ]
  },
  {
   "cell_type": "code",
   "execution_count": 121,
   "metadata": {
    "collapsed": true
   },
   "outputs": [],
   "source": [
    "#Create iterator \n",
    "s_iterator = iter(s)"
   ]
  },
  {
   "cell_type": "markdown",
   "metadata": {},
   "source": [
    "Now that we have created our iterator, let's see how we can use the next() function."
   ]
  },
  {
   "cell_type": "code",
   "execution_count": 122,
   "metadata": {},
   "outputs": [
    {
     "name": "stdout",
     "output_type": "stream",
     "text": [
      "H\n",
      "e\n",
      "l\n",
      "l\n",
      "o\n"
     ]
    },
    {
     "ename": "StopIteration",
     "evalue": "",
     "output_type": "error",
     "traceback": [
      "\u001b[0;31m---------------------------------------------------------------------------\u001b[0m",
      "\u001b[0;31mStopIteration\u001b[0m                             Traceback (most recent call last)",
      "\u001b[0;32m<ipython-input-122-92da0917400b>\u001b[0m in \u001b[0;36m<module>\u001b[0;34m()\u001b[0m\n\u001b[1;32m      4\u001b[0m \u001b[0mprint\u001b[0m\u001b[0;34m(\u001b[0m\u001b[0mnext\u001b[0m\u001b[0;34m(\u001b[0m\u001b[0ms_iterator\u001b[0m\u001b[0;34m)\u001b[0m\u001b[0;34m)\u001b[0m\u001b[0;34m\u001b[0m\u001b[0m\n\u001b[1;32m      5\u001b[0m \u001b[0mprint\u001b[0m\u001b[0;34m(\u001b[0m\u001b[0mnext\u001b[0m\u001b[0;34m(\u001b[0m\u001b[0ms_iterator\u001b[0m\u001b[0;34m)\u001b[0m\u001b[0;34m)\u001b[0m\u001b[0;34m\u001b[0m\u001b[0m\n\u001b[0;32m----> 6\u001b[0;31m \u001b[0mprint\u001b[0m\u001b[0;34m(\u001b[0m\u001b[0mnext\u001b[0m\u001b[0;34m(\u001b[0m\u001b[0ms_iterator\u001b[0m\u001b[0;34m)\u001b[0m\u001b[0;34m)\u001b[0m\u001b[0;34m\u001b[0m\u001b[0m\n\u001b[0m",
      "\u001b[0;31mStopIteration\u001b[0m: "
     ]
    }
   ],
   "source": [
    "print(next(s_iterator))\n",
    "print(next(s_iterator))\n",
    "print(next(s_iterator))\n",
    "print(next(s_iterator))\n",
    "print(next(s_iterator))\n",
    "print(next(s_iterator))"
   ]
  },
  {
   "cell_type": "markdown",
   "metadata": {},
   "source": [
    "We were able to use the next() function on our iterator to print one of the items of the iterator and update to the next item. However, after all of the items were printed and we continued to try to print, a **StopIteration** error occured, signifying that we went through all of the items of the iterator.\n",
    "\n",
    "We created an iterator from a iterable, but we can also create an iterable from an iterator. We will create the same iterable, **s**, and the same iterator **s_iterator**, and then create another iterable from the iterator, this time the iterable being a list."
   ]
  },
  {
   "cell_type": "code",
   "execution_count": 124,
   "metadata": {
    "collapsed": true
   },
   "outputs": [],
   "source": [
    "#create iterable (string)\n",
    "s = \"Hello\""
   ]
  },
  {
   "cell_type": "code",
   "execution_count": 125,
   "metadata": {
    "collapsed": true
   },
   "outputs": [],
   "source": [
    "#iterator\n",
    "s_iterator = iter(s)"
   ]
  },
  {
   "cell_type": "code",
   "execution_count": 126,
   "metadata": {},
   "outputs": [],
   "source": [
    "#crete iterable from iterator (list)\n",
    "l = list(s_iterator)"
   ]
  },
  {
   "cell_type": "code",
   "execution_count": 127,
   "metadata": {},
   "outputs": [
    {
     "data": {
      "text/plain": [
       "['H', 'e', 'l', 'l', 'o']"
      ]
     },
     "execution_count": 127,
     "metadata": {},
     "output_type": "execute_result"
    }
   ],
   "source": [
    "l"
   ]
  },
  {
   "cell_type": "markdown",
   "metadata": {},
   "source": [
    "If we try to use the next() function on our iterator now, we should get a **StopIteration** error because all of its items have been iterated over to be put into the list."
   ]
  },
  {
   "cell_type": "code",
   "execution_count": 128,
   "metadata": {},
   "outputs": [
    {
     "ename": "StopIteration",
     "evalue": "",
     "output_type": "error",
     "traceback": [
      "\u001b[0;31m---------------------------------------------------------------------------\u001b[0m",
      "\u001b[0;31mStopIteration\u001b[0m                             Traceback (most recent call last)",
      "\u001b[0;32m<ipython-input-128-afbb6b0a606f>\u001b[0m in \u001b[0;36m<module>\u001b[0;34m()\u001b[0m\n\u001b[0;32m----> 1\u001b[0;31m \u001b[0mnext\u001b[0m\u001b[0;34m(\u001b[0m\u001b[0ms_iterator\u001b[0m\u001b[0;34m)\u001b[0m\u001b[0;34m\u001b[0m\u001b[0m\n\u001b[0m",
      "\u001b[0;31mStopIteration\u001b[0m: "
     ]
    }
   ],
   "source": [
    "next(s_iterator)"
   ]
  },
  {
   "cell_type": "markdown",
   "metadata": {},
   "source": [
    "## Generator Functions\n",
    "\n",
    "Generator functions are a simpler way to create generator objects. Generator objects are a form of an iterator. Rather than creating our own iterable classes and using the iter() function, we can use generator functions to create iterators. \n",
    "\n",
    "Generators are great for calculating large amounts of results. This is because with generator objects, memory is not allocated for each result produced, but only the result that is being output at a single instance.\n",
    "\n",
    "So how do we create a generator function? Normally, we create functions using a **return** statement in the function body. With generator functions, we will use a **yield** statement instead. the yield statement will return a value, suspend the state. Being that generator objects are iterators, we can then use the next() function to update the state to get the next value.\n",
    "\n",
    "Below, we will create a generator function that creates generator objects that calculates the squares of numbers."
   ]
  },
  {
   "cell_type": "code",
   "execution_count": 129,
   "metadata": {
    "collapsed": true
   },
   "outputs": [],
   "source": [
    "#Create generator function that calculates the squares of numbers\n",
    "def square_generator(x):\n",
    "    for num in range(x):\n",
    "        yield num**2"
   ]
  },
  {
   "cell_type": "markdown",
   "metadata": {},
   "source": [
    "Now we can create a generator object by assigning a variable to our newly created function."
   ]
  },
  {
   "cell_type": "code",
   "execution_count": 130,
   "metadata": {
    "collapsed": true
   },
   "outputs": [],
   "source": [
    "#Create generator object\n",
    "gen_object = square_generator(10)"
   ]
  },
  {
   "cell_type": "code",
   "execution_count": 131,
   "metadata": {},
   "outputs": [
    {
     "data": {
      "text/plain": [
       "<generator object square_generator at 0x10a75fa98>"
      ]
     },
     "execution_count": 131,
     "metadata": {},
     "output_type": "execute_result"
    }
   ],
   "source": [
    "#execute gen_object\n",
    "gen_object"
   ]
  },
  {
   "cell_type": "markdown",
   "metadata": {},
   "source": [
    "Notice that the output of **gen_object** is \"generator object square_generator at [some number]\" The squares of numbers up to 10 were not printed because **gen_object** is an iterator. In order to get the items of **gen_object** we have to use the next() function."
   ]
  },
  {
   "cell_type": "code",
   "execution_count": 115,
   "metadata": {},
   "outputs": [
    {
     "name": "stdout",
     "output_type": "stream",
     "text": [
      "0\n",
      "1\n",
      "4\n",
      "9\n",
      "16\n",
      "25\n"
     ]
    }
   ],
   "source": [
    "print(next(gen_object))\n",
    "print(next(gen_object))\n",
    "print(next(gen_object))\n",
    "print(next(gen_object))\n",
    "print(next(gen_object))\n",
    "print(next(gen_object))"
   ]
  },
  {
   "cell_type": "markdown",
   "metadata": {},
   "source": [
    "Instead of printing out each value manually, we can easily implement a for loop to do this for us."
   ]
  },
  {
   "cell_type": "code",
   "execution_count": 116,
   "metadata": {
    "collapsed": true
   },
   "outputs": [],
   "source": [
    "#recreate our generator object\n",
    "gen_object = square_generator(10)"
   ]
  },
  {
   "cell_type": "code",
   "execution_count": 117,
   "metadata": {},
   "outputs": [
    {
     "name": "stdout",
     "output_type": "stream",
     "text": [
      "0\n",
      "1\n",
      "4\n",
      "9\n",
      "16\n",
      "25\n",
      "36\n",
      "49\n",
      "64\n",
      "81\n"
     ]
    }
   ],
   "source": [
    "#Print all values of gen_object with for loop\n",
    "for i in gen_object:\n",
    "    print(i)"
   ]
  },
  {
   "cell_type": "markdown",
   "metadata": {},
   "source": [
    "Just like what we discussed with iterators, we can use our generator object to create iterables. For example, we can use **gen_object** to create a list."
   ]
  },
  {
   "cell_type": "code",
   "execution_count": 118,
   "metadata": {},
   "outputs": [],
   "source": [
    "#recreate our generator object\n",
    "gen_object = square_generator(10)"
   ]
  },
  {
   "cell_type": "code",
   "execution_count": 119,
   "metadata": {},
   "outputs": [
    {
     "data": {
      "text/plain": [
       "[0, 1, 4, 9, 16, 25, 36, 49, 64, 81]"
      ]
     },
     "execution_count": 119,
     "metadata": {},
     "output_type": "execute_result"
    }
   ],
   "source": [
    "list(gen_object)"
   ]
  },
  {
   "cell_type": "markdown",
   "metadata": {},
   "source": [
    "For more information on iterables, iterators, and generators, visit www.excess.org/article/2013/02/itergen1"
   ]
  }
 ],
 "metadata": {
  "kernelspec": {
   "display_name": "Python 3",
   "language": "python",
   "name": "python3"
  },
  "language_info": {
   "codemirror_mode": {
    "name": "ipython",
    "version": 3
   },
   "file_extension": ".py",
   "mimetype": "text/x-python",
   "name": "python",
   "nbconvert_exporter": "python",
   "pygments_lexer": "ipython3",
   "version": "3.6.1"
  }
 },
 "nbformat": 4,
 "nbformat_minor": 2
}
