{
 "cells": [
  {
   "cell_type": "markdown",
   "metadata": {},
   "source": [
    "# Functions\n",
    "\n",
    "**Disclaimer: I am writing this notebook at 4AM at a Denny's so sorry if this notebook is a bit weird :).**\n",
    "\n",
    "If you didn't already know it, we have been dealing with functions a lot already. We have used a bunch of built-in functions such as the **print()** function, the **len()** function, the **range()** function, and many more. While these functions are great, they definitely are not enough to do everything you want. When we start constructing larger and larger programs, creating our own functions is a must. These functions that an individual programmer can create are called **user-defined functions**.\n",
    "\n",
    "So what exactly is a function? Well a function \"is a block of organized, reusable code that is used to perform a single, related action\" (tutorialpoint.com). From this definition we should take three things:\n",
    "\n",
    "1. A function is defined by a block of code\n",
    "\n",
    "2. A function is reusable\n",
    "\n",
    "3. A function performs a \"single, related action\"\n",
    "\n",
    "This definition not only applies to user-defined functions, but also applies to built-in functions. For example, let's take the **len()** function. Does the **len()** function follow our three points? Well, first off, while it may not seem like it, there is an unseen block of code that is executed each time the **len()** function is used. Secondly, the **len()** function is definitely reusable, being that you can use it as many times as you want in a single program. Thirdly, the action the **len()** function produces is to find how many elements are stored in some data structure. So yes, the **len()** function does follow our three points.\n",
    "\n",
    "## So Why Create a User-Defined Function?\n",
    "\n",
    "Why should we define our own functions? Let's consider a situation where you are writing a fairly long program. Part of this program requires you to perform a complex calculation that takes up multiple lines of code. Now let's say that in your program you have to perform that complex calculation multiple times. Instead of writing out the code to perform the calclulation each time you need to, you can create a user-defined function that will perform the calculation for you. Now you don't need to type out the same code over and over again, you can just use your user-defined function each time! Imagine if there was no **print()** function, and each time you wanted to print something, you had to write the code for the **print()** function. That would be exhausting. Luckily, we don't have to do that because we have functions :).\n",
    "\n",
    "## How to Create a User-Defined Function?\n",
    "\n",
    "The basic syntax for a function is:\n",
    "\n",
    "**def** function name (parameter 1, parameter 2, ..., parameter ∞):\n",
    "    \n",
    "    statement(s)\n",
    "\n",
    "\n",
    "side note: I know I ended with \"parameter ∞\", but please don't make a function with a bazillion parameters...\n",
    "\n",
    "So let's look at some examples of functions.\n",
    "\n",
    "\n",
    "### Example 1: A Dumb Function that Prints \"poop\"\n",
    "\n",
    "Lets make a function that prints the string \"poop\"!\n",
    "\n",
    "side note: poop humor is really funny."
   ]
  },
  {
   "cell_type": "code",
   "execution_count": 5,
   "metadata": {
    "collapsed": true
   },
   "outputs": [],
   "source": [
    "#function that prints \"poop\"...let's call our function print_poop\n",
    "\n",
    "def print_poop():\n",
    "    print(\"poop\")"
   ]
  },
  {
   "cell_type": "code",
   "execution_count": 7,
   "metadata": {},
   "outputs": [
    {
     "name": "stdout",
     "output_type": "stream",
     "text": [
      "poop\n"
     ]
    }
   ],
   "source": [
    "#Check if it works\n",
    "\n",
    "print_poop()"
   ]
  },
  {
   "cell_type": "markdown",
   "metadata": {},
   "source": [
    "It worked! While amusing, this is a poor example of how functions should be used, being that the function name itself, and the block of code that defines the function are about the same length, making the usefulness of the function pretty much nil.\n",
    "\n",
    "### Example 2: Using parameters\n",
    "\n",
    "While our first function **print_poop()** was amusing, it was simple. Let's create a more complex function that takes a few parameters. Let's have the action our function produces be to produce a greeting. In order to have a proper greeting, you would have to state your name, so let's have one of the parameters be \"name\". Also, let's have another parameter be \"age\". The function for this is below."
   ]
  },
  {
   "cell_type": "code",
   "execution_count": 3,
   "metadata": {
    "collapsed": true
   },
   "outputs": [],
   "source": [
    "#Create function.\n",
    "def greeting(name, age):\n",
    "    \n",
    "    print(\"Hi my name is %s. My age is %s.\" %(name, age))"
   ]
  },
  {
   "cell_type": "markdown",
   "metadata": {},
   "source": [
    "Now that we have created our function, we can supply anything for our parameters. My name is \"Joe\" and my age as of today (August, 2017) is 21 (Yeahhhh 21 baby!), so let's supply that information."
   ]
  },
  {
   "cell_type": "code",
   "execution_count": 2,
   "metadata": {},
   "outputs": [
    {
     "name": "stdout",
     "output_type": "stream",
     "text": [
      "Hi my name is Joe. My age is 21\n"
     ]
    }
   ],
   "source": [
    "#Use function!\n",
    "greeting(\"Joe\", 21)"
   ]
  },
  {
   "cell_type": "markdown",
   "metadata": {},
   "source": [
    "The values of our parameters can be anything! Let's supply information that makes absolutely no sense just for fun."
   ]
  },
  {
   "cell_type": "code",
   "execution_count": 14,
   "metadata": {},
   "outputs": [
    {
     "name": "stdout",
     "output_type": "stream",
     "text": [
      "Hi my name is molasses my age is porcupine\n"
     ]
    }
   ],
   "source": [
    "#Use function to make no sense!\n",
    "greeting(\"molasses\", \"porcupine\")"
   ]
  },
  {
   "cell_type": "markdown",
   "metadata": {},
   "source": [
    "Hopefully, you now understand how parameters work. You work parameters into the statements of your function to perform some action that takes in the values of the parameters. \n",
    "\n",
    "### Example 3: The Return Statement\n",
    "\n",
    "In the list comprehensions jupyter notebook we wrote a small program that takes in temperatures in Fahrenheit and returns temperatures in Celsius. Let's create a function to do this! Our function will contain one parameter called \"temp_F\" which will be the temperature in Fahrenheit. Remember, the formula for conversion from Fahrenheit to Celsius is: °C = (°F-32)*5/9."
   ]
  },
  {
   "cell_type": "code",
   "execution_count": 24,
   "metadata": {
    "collapsed": true
   },
   "outputs": [],
   "source": [
    "#Create function\n",
    "def convert_temp(temp_F):\n",
    "    \n",
    "    temp_C = (temp_F - 32)*5/9"
   ]
  },
  {
   "cell_type": "code",
   "execution_count": 25,
   "metadata": {
    "collapsed": true
   },
   "outputs": [],
   "source": [
    "#Check if it works!\n",
    "\n",
    "convert_temp(32)"
   ]
  },
  {
   "cell_type": "markdown",
   "metadata": {},
   "source": [
    "Hmm... we had no output. Why is that? We did not receive any errors, so it dosn't seem like there is something wrong with our code. Well, we did not tell our function to output anything. We can solve this one of two ways. The first is to do what we did in our previous functions - use the **print()** function. The second, and better, way is to use a **return** statement. Let's use the **print()** function first."
   ]
  },
  {
   "cell_type": "code",
   "execution_count": 27,
   "metadata": {
    "collapsed": true
   },
   "outputs": [],
   "source": [
    "#Create function\n",
    "def convert_temp(temp_F):\n",
    "    \n",
    "    temp_C = (temp_F - 32) * 5/9\n",
    "    \n",
    "    print(temp_C)"
   ]
  },
  {
   "cell_type": "code",
   "execution_count": 28,
   "metadata": {},
   "outputs": [
    {
     "name": "stdout",
     "output_type": "stream",
     "text": [
      "0.0\n"
     ]
    }
   ],
   "source": [
    "#Check\n",
    "\n",
    "convert_temp(32)"
   ]
  },
  {
   "cell_type": "markdown",
   "metadata": {},
   "source": [
    "So we received an output, but what if we wanted to store our Celsius temperature as a variable?"
   ]
  },
  {
   "cell_type": "code",
   "execution_count": 33,
   "metadata": {},
   "outputs": [
    {
     "name": "stdout",
     "output_type": "stream",
     "text": [
      "0.0\n"
     ]
    }
   ],
   "source": [
    "#store as variable\n",
    "my_temp = convert_temp(32)\n"
   ]
  },
  {
   "cell_type": "code",
   "execution_count": null,
   "metadata": {
    "collapsed": true
   },
   "outputs": [],
   "source": [
    "#Check\n",
    "my_temp"
   ]
  },
  {
   "cell_type": "code",
   "execution_count": 36,
   "metadata": {},
   "outputs": [
    {
     "name": "stdout",
     "output_type": "stream",
     "text": [
      "None\n"
     ]
    }
   ],
   "source": [
    "#Try printing - maybe that will work...\n",
    "print(my_temp)"
   ]
  },
  {
   "cell_type": "markdown",
   "metadata": {},
   "source": [
    "As you can see, when we attempt to store our value, there is nothing stored there! When we tried to print(my_temp), we get back \"None\". We can fix this using a **return** statement. The return statement allows you to return a value. This value then can be stored in a variable. Let's edit our function to use the **return** statement instead of a **print()** function."
   ]
  },
  {
   "cell_type": "code",
   "execution_count": 37,
   "metadata": {
    "collapsed": true
   },
   "outputs": [],
   "source": [
    "#Edit \n",
    "def convert_temp(temp_F):\n",
    "    \n",
    "    temp_C = (temp_F - 32) * 5/9\n",
    "    \n",
    "    return temp_C"
   ]
  },
  {
   "cell_type": "code",
   "execution_count": 38,
   "metadata": {
    "collapsed": true
   },
   "outputs": [],
   "source": [
    "#store as variable\n",
    "my_temp = convert_temp(32)"
   ]
  },
  {
   "cell_type": "code",
   "execution_count": 39,
   "metadata": {},
   "outputs": [
    {
     "data": {
      "text/plain": [
       "0.0"
      ]
     },
     "execution_count": 39,
     "metadata": {},
     "output_type": "execute_result"
    }
   ],
   "source": [
    "#Check\n",
    "my_temp"
   ]
  },
  {
   "cell_type": "code",
   "execution_count": 40,
   "metadata": {},
   "outputs": [
    {
     "name": "stdout",
     "output_type": "stream",
     "text": [
      "0.0\n"
     ]
    }
   ],
   "source": [
    "#print\n",
    "print(my_temp)"
   ]
  },
  {
   "cell_type": "markdown",
   "metadata": {},
   "source": [
    "Eureka! It worked! Hopefully, now you understand the importance of the **return** statement as well as functions in general. Using functions can save you tons of time and space by not having to repeat writing the same code over and over again."
   ]
  },
  {
   "cell_type": "markdown",
   "metadata": {},
   "source": [
    "## Function Docstrings\n",
    "\n",
    "A **docstring**, also known as *documentation strings*, provides a short description for a function. While not necessary, it is good practice for your functions to contain a docstring. The docstring should be start and end with three quotation marks (three quotation marks is a way to comment blocks of lines). Therefore, the actual syntax for a function should look like:\n",
    "\n",
    "**def** function name (parameter 1, parameter 2, ..., parameter ∞):\n",
    "\n",
    "    \"\"\"\n",
    "    docstring\n",
    "    \"\"\"\n",
    "    \n",
    "    statement(s)\n",
    "\n",
    "Some conventions for docstrings that you should follow are:\n",
    "\n",
    "    1. Use triple quotes.\n",
    "    2. The first line should be a short description.\n",
    "    3. If there are more lines, leave the second line blank, separating the first line from the rest.\n",
    "    \n",
    "In order to see the docstring of a function, use the **.__doc__** method. Below is an example where we find the docstring for the **len()** function."
   ]
  },
  {
   "cell_type": "code",
   "execution_count": 4,
   "metadata": {},
   "outputs": [
    {
     "data": {
      "text/plain": [
       "'Return the number of items in a container.'"
      ]
     },
     "execution_count": 4,
     "metadata": {},
     "output_type": "execute_result"
    }
   ],
   "source": [
    "#find docstring for len() function\n",
    "len.__doc__"
   ]
  },
  {
   "cell_type": "markdown",
   "metadata": {},
   "source": [
    "For practice, let's add a docstring to our function for converting temperature from Fahrenheit to Celsius."
   ]
  },
  {
   "cell_type": "code",
   "execution_count": 12,
   "metadata": {
    "collapsed": true
   },
   "outputs": [],
   "source": [
    "#Create function with docstring\n",
    "def convert_temp(temp_F):\n",
    "    \n",
    "    \"\"\"Converts from Fahrenheit to Celsius.\"\"\"\n",
    "    \n",
    "    temp_C = (temp_F - 32) * 5/9\n",
    "    \n",
    "    return temp_C"
   ]
  },
  {
   "cell_type": "code",
   "execution_count": 13,
   "metadata": {},
   "outputs": [
    {
     "data": {
      "text/plain": [
       "'Converts from Fahrenheit to Celsius.'"
      ]
     },
     "execution_count": 13,
     "metadata": {},
     "output_type": "execute_result"
    }
   ],
   "source": [
    "#Check for docstring\n",
    "convert_temp.__doc__"
   ]
  },
  {
   "cell_type": "markdown",
   "metadata": {},
   "source": [
    "## Optional Questions\n",
    "\n",
    "1.\n",
    "\n",
    "2.\n",
    "\n",
    "3.\n",
    "\n",
    "4.\n",
    "\n",
    "5."
   ]
  }
 ],
 "metadata": {
  "kernelspec": {
   "display_name": "Python 3",
   "language": "python",
   "name": "python3"
  },
  "language_info": {
   "codemirror_mode": {
    "name": "ipython",
    "version": 3
   },
   "file_extension": ".py",
   "mimetype": "text/x-python",
   "name": "python",
   "nbconvert_exporter": "python",
   "pygments_lexer": "ipython3",
   "version": "3.6.1"
  }
 },
 "nbformat": 4,
 "nbformat_minor": 2
}
