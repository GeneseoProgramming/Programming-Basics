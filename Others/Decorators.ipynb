{
 "cells": [
  {
   "cell_type": "markdown",
   "metadata": {},
   "source": [
    "# Decorators\n",
    "\n",
    "A decorator is a function that modifies the behavior of another function without actually modifying the body of the latter function. Before we discuss decorators, we must first discuss functions.\n",
    "\n",
    "## Functions\n",
    "\n",
    "Functions in python are **first-class objects** - they are able to be used as arguments in other functions just like other values such as strings, floats, and integers.\n",
    "\n",
    "### Nested Functions and Scope\n",
    "\n",
    "Being that functions are first-class objects, you can define functions inside of functions. These inner functions are known as nested functions. An example of a nested function is below."
   ]
  },
  {
   "cell_type": "code",
   "execution_count": 38,
   "metadata": {
    "collapsed": true
   },
   "outputs": [],
   "source": [
    "def outer_function():\n",
    "    print(\"This is the outer function\")\n",
    "    \n",
    "    def inner_function():\n",
    "        return \"This is the inner function\"\n",
    "        \n",
    "    print(inner_function())"
   ]
  },
  {
   "cell_type": "markdown",
   "metadata": {},
   "source": [
    "If we call the **outer_function()** function, both the **outer_function()** and **inner_function()** should be run."
   ]
  },
  {
   "cell_type": "code",
   "execution_count": 54,
   "metadata": {},
   "outputs": [
    {
     "name": "stdout",
     "output_type": "stream",
     "text": [
      "This is the outer function\n",
      "This is the inner function\n",
      "dict_keys(['inner_function'])\n"
     ]
    }
   ],
   "source": [
    "outer_function()"
   ]
  },
  {
   "cell_type": "markdown",
   "metadata": {},
   "source": [
    "What will happen if we call the **inner_function()**?"
   ]
  },
  {
   "cell_type": "code",
   "execution_count": 55,
   "metadata": {},
   "outputs": [
    {
     "ename": "NameError",
     "evalue": "name 'inner_function' is not defined",
     "output_type": "error",
     "traceback": [
      "\u001b[0;31m---------------------------------------------------------------------------\u001b[0m",
      "\u001b[0;31mNameError\u001b[0m                                 Traceback (most recent call last)",
      "\u001b[0;32m<ipython-input-55-a75c44b53aef>\u001b[0m in \u001b[0;36m<module>\u001b[0;34m()\u001b[0m\n\u001b[0;32m----> 1\u001b[0;31m \u001b[0minner_function\u001b[0m\u001b[0;34m(\u001b[0m\u001b[0;34m)\u001b[0m\u001b[0;34m\u001b[0m\u001b[0m\n\u001b[0m",
      "\u001b[0;31mNameError\u001b[0m: name 'inner_function' is not defined"
     ]
    }
   ],
   "source": [
    "inner_function()"
   ]
  },
  {
   "cell_type": "markdown",
   "metadata": {},
   "source": [
    "We get a **NameError** saying that **inner_function** is not defined. This is because **inner_function** is a local variable of the scope of **outer_function**. It only exists within the **outer_function()** function's scope. However, **outer_function** is a global variable. We can check using the **globals()** function to find out which variables are global by printing out the global namespace. We can use the **locals()** function to check which variables are local. The two functions will return dictionaries with the keys as the variable names, so we can use the **.keys()** method to get back only the variables."
   ]
  },
  {
   "cell_type": "code",
   "execution_count": 56,
   "metadata": {},
   "outputs": [
    {
     "data": {
      "text/plain": [
       "dict_keys(['__name__', '__doc__', '__package__', '__loader__', '__spec__', '__builtin__', '__builtins__', '_ih', '_oh', '_dh', '_sh', 'In', 'Out', 'get_ipython', 'exit', 'quit', '_', '__', '___', '_i', '_ii', '_iii', '_i1', 'outer_function', '_i2', '_i3', '_i4', '_i5', '_i6', '_i7', '_i8', '_i9', '_i10', '_i11', '_i12', '_i13', '_13', '_i14', '_i15', '_i16', '_i17', '_i18', '_i19', '_19', '_i20', '_20', '_i21', '_21', '_i22', '_i23', '_23', '_i24', '_i25', '_25', '_i26', '_i27', '_i28', '_i29', '_i30', '_i31', '_i32', '_i33', '_33', '_i34', '_i35', '_i36', '_i37', '_i38', '_i39', '_i40', '_i41', '_41', '_i42', '_i43', '_i44', '_i45', '_i46', '_i47', '_i48', '_i49', '_i50', '_i51', '_i52', '_i53', '_i54', '_i55', '_i56'])"
      ]
     },
     "execution_count": 56,
     "metadata": {},
     "output_type": "execute_result"
    }
   ],
   "source": [
    "globals().keys()"
   ]
  },
  {
   "cell_type": "markdown",
   "metadata": {},
   "source": [
    "When we use **globals().keys()**, you can see that one of the global variables is **outer_function**, but there is no **inner_function**, showing that **outer_function** is a global variable, but **inner_function** is not. Let's redefine the **outer_function()** function to print the local keys."
   ]
  },
  {
   "cell_type": "code",
   "execution_count": 57,
   "metadata": {
    "collapsed": true
   },
   "outputs": [],
   "source": [
    "def outer_function():\n",
    "    print(\"This is the outer function\")\n",
    "    \n",
    "    def inner_function():\n",
    "        return \"This is the inner function\" \n",
    "        \n",
    "    print(inner_function())\n",
    "    print(locals().keys()) #Here is where the local keys will be printed"
   ]
  },
  {
   "cell_type": "code",
   "execution_count": 58,
   "metadata": {},
   "outputs": [
    {
     "name": "stdout",
     "output_type": "stream",
     "text": [
      "This is the outer function\n",
      "This is the inner function\n",
      "dict_keys(['inner_function'])\n"
     ]
    }
   ],
   "source": [
    "outer_function()"
   ]
  },
  {
   "cell_type": "markdown",
   "metadata": {},
   "source": [
    "The only local variable is **inner_function**, showing that **inner_function** is a local variable in the scope of **outer_function**.\n",
    "\n",
    "For more information on scope and namespaces, visit https://code.tutsplus.com/tutorials/what-are-python-namespaces-and-why-are-they-needed--cms-28598."
   ]
  },
  {
   "cell_type": "markdown",
   "metadata": {},
   "source": [
    "### Assigning Labels to Functions\n",
    "\n",
    "*Everything in python is an object, including functions.* Therefore, we can assign labels (variables) to functions. Let's see how we can do this. First let's create a function called **introduction** and have it take in a name as an argument. Then we'll assign it a label called **greeting**. Do not include parenthesis after the function name when assigining a label. The parenthesis makes it so that the function gets executed. We do not want to put the parenthesis after so that the function can be passed around and assigned to other variables."
   ]
  },
  {
   "cell_type": "code",
   "execution_count": 9,
   "metadata": {
    "collapsed": true
   },
   "outputs": [],
   "source": [
    "#Create function\n",
    "def introduction(name):\n",
    "    return \"Hi my name is \" + name"
   ]
  },
  {
   "cell_type": "code",
   "execution_count": 2,
   "metadata": {},
   "outputs": [
    {
     "data": {
      "text/plain": [
       "'Hi my name is Joe'"
      ]
     },
     "execution_count": 2,
     "metadata": {},
     "output_type": "execute_result"
    }
   ],
   "source": [
    "#Check if function works\n",
    "introduction(\"Joe\")"
   ]
  },
  {
   "cell_type": "code",
   "execution_count": 3,
   "metadata": {
    "collapsed": true
   },
   "outputs": [],
   "source": [
    "#assign label\n",
    "greeting = introduction"
   ]
  },
  {
   "cell_type": "code",
   "execution_count": 4,
   "metadata": {},
   "outputs": [
    {
     "data": {
      "text/plain": [
       "'Hi my name is Joe'"
      ]
     },
     "execution_count": 4,
     "metadata": {},
     "output_type": "execute_result"
    }
   ],
   "source": [
    "#Check if label works\n",
    "greeting(\"Joe\")"
   ]
  },
  {
   "cell_type": "markdown",
   "metadata": {},
   "source": [
    "By assigining a label, we created a function called **greeting** that does the same as **introduction**. What happens if we delete **introduction**?"
   ]
  },
  {
   "cell_type": "code",
   "execution_count": 10,
   "metadata": {
    "collapsed": true
   },
   "outputs": [],
   "source": [
    "#delete introduction() function\n",
    "del introduction"
   ]
  },
  {
   "cell_type": "code",
   "execution_count": 11,
   "metadata": {},
   "outputs": [
    {
     "ename": "NameError",
     "evalue": "name 'introduction' is not defined",
     "output_type": "error",
     "traceback": [
      "\u001b[0;31m---------------------------------------------------------------------------\u001b[0m",
      "\u001b[0;31mNameError\u001b[0m                                 Traceback (most recent call last)",
      "\u001b[0;32m<ipython-input-11-67e1f618d0dd>\u001b[0m in \u001b[0;36m<module>\u001b[0;34m()\u001b[0m\n\u001b[1;32m      1\u001b[0m \u001b[0;31m#Check if introduction() function works\u001b[0m\u001b[0;34m\u001b[0m\u001b[0;34m\u001b[0m\u001b[0m\n\u001b[0;32m----> 2\u001b[0;31m \u001b[0mintroduction\u001b[0m\u001b[0;34m(\u001b[0m\u001b[0;34m\"Joe\"\u001b[0m\u001b[0;34m)\u001b[0m\u001b[0;34m\u001b[0m\u001b[0m\n\u001b[0m",
      "\u001b[0;31mNameError\u001b[0m: name 'introduction' is not defined"
     ]
    }
   ],
   "source": [
    "#Check if introduction() function works\n",
    "introduction(\"Joe\")"
   ]
  },
  {
   "cell_type": "code",
   "execution_count": 12,
   "metadata": {},
   "outputs": [
    {
     "data": {
      "text/plain": [
       "'Hi my name is Joe'"
      ]
     },
     "execution_count": 12,
     "metadata": {},
     "output_type": "execute_result"
    }
   ],
   "source": [
    "#Check if greeting() function works\n",
    "greeting(\"Joe\")"
   ]
  },
  {
   "cell_type": "markdown",
   "metadata": {
    "collapsed": true
   },
   "source": [
    "Even thought we deleted the **introduction()** function, the **greeting()** function still works. The assignment is independent of the original function, and still exists in the namespace. We can prove this by calling on the function from the **globals()** function that contains all of the global variables. Take a look at the cell below."
   ]
  },
  {
   "cell_type": "code",
   "execution_count": 16,
   "metadata": {},
   "outputs": [
    {
     "data": {
      "text/plain": [
       "'Hi my name is Joe'"
      ]
     },
     "execution_count": 16,
     "metadata": {},
     "output_type": "execute_result"
    }
   ],
   "source": [
    "globals()['greeting'](\"Joe\")"
   ]
  },
  {
   "cell_type": "markdown",
   "metadata": {
    "collapsed": true
   },
   "source": [
    "### Returning Functions\n",
    "\n",
    "Take a look at the function below where one of two nested functions are returned based upon the argument given."
   ]
  },
  {
   "cell_type": "code",
   "execution_count": 24,
   "metadata": {},
   "outputs": [],
   "source": [
    "def outer_func(num):\n",
    "    \n",
    "    def nested_func1():\n",
    "        return \"This is the nested_func1() function\"\n",
    "    \n",
    "    def nested_func2():\n",
    "        return \"This is the nested_func2() function\"\n",
    "    \n",
    "    if num >= 5:\n",
    "        return nested_func1\n",
    "    else:\n",
    "        return nested_func2"
   ]
  },
  {
   "cell_type": "markdown",
   "metadata": {},
   "source": [
    "We have a function called **outer_func** that will return one of two functions based on the value of the **num** argument given. If **num** is greater than or equal to 5, **outer_func** will return **nested_func1**, and if it is less than 5, **outer_func** will return **nested_func2** So what do you think will happen if we assign a label to **outer_func(10)**?"
   ]
  },
  {
   "cell_type": "code",
   "execution_count": 25,
   "metadata": {},
   "outputs": [],
   "source": [
    "#assign label to outer_func(10)\n",
    "my_label = outer_func(10)"
   ]
  },
  {
   "cell_type": "code",
   "execution_count": 28,
   "metadata": {},
   "outputs": [
    {
     "data": {
      "text/plain": [
       "'This is the nested_func1() function'"
      ]
     },
     "execution_count": 28,
     "metadata": {},
     "output_type": "execute_result"
    }
   ],
   "source": [
    "my_label()"
   ]
  },
  {
   "cell_type": "markdown",
   "metadata": {},
   "source": [
    "So **my_label** became **nested_func1**. This is because when **num** is 10, **outer_func(10)** returns **nested_func1**, assigning **my_label** to **nested_func1**.\n",
    "\n",
    "### Functions as Arguments\n",
    "\n",
    "Because functions are first-class objects, they can be used as arguments for other functions. Let's make a function that takes another function as a parameter."
   ]
  },
  {
   "cell_type": "code",
   "execution_count": 32,
   "metadata": {
    "collapsed": true
   },
   "outputs": [],
   "source": [
    "def outer_function(some_function):\n",
    "    print(\"This is from the outer_function\")\n",
    "    some_function()\n",
    "    print(\"This is also from the outer_function\")"
   ]
  },
  {
   "cell_type": "markdown",
   "metadata": {},
   "source": [
    "Our function, **outer_function**, takes an argument called **some_function**. Also, in the body of **outer_function**, **some_function** is called, but has parenthesis after it. This means that the argument **some_function** must be a function itself. Let's create another function to be used as an argument for **outer_function**."
   ]
  },
  {
   "cell_type": "code",
   "execution_count": 70,
   "metadata": {},
   "outputs": [],
   "source": [
    "def argument_function():\n",
    "    print(\"\\t This is from the function that was used as an argument\")"
   ]
  },
  {
   "cell_type": "markdown",
   "metadata": {},
   "source": [
    "Now let's supply the **argument_function** as an arguement for the **outer_function**"
   ]
  },
  {
   "cell_type": "code",
   "execution_count": 71,
   "metadata": {},
   "outputs": [
    {
     "name": "stdout",
     "output_type": "stream",
     "text": [
      "This is from the outer_function\n",
      "\t This is from the function that was used as an argument\n",
      "This is also from the outer_function\n"
     ]
    }
   ],
   "source": [
    "outer_function(argument_function)"
   ]
  },
  {
   "cell_type": "markdown",
   "metadata": {},
   "source": [
    "## Decorators\n",
    "\n",
    "A decorator is very similar to what we just built. An example of a decorator called **my_decorator** is below. What it does is to take a function as an argument, create a new function called **wrapper** that is the argument function along with some decoration, and then return the **wrapper** function to be assigned to labels."
   ]
  },
  {
   "cell_type": "code",
   "execution_count": 72,
   "metadata": {
    "collapsed": true
   },
   "outputs": [],
   "source": [
    "def my_decorator(some_function):\n",
    "    \n",
    "    def wrapper():\n",
    "        \n",
    "        print(\"This is decoration\")\n",
    "        \n",
    "        some_function()\n",
    "        \n",
    "        print(\"This is also decoration\")\n",
    "        \n",
    "    return wrapper"
   ]
  },
  {
   "cell_type": "markdown",
   "metadata": {},
   "source": [
    "So what can we do with the decorator we just created? Well we can supply a function as the argument. In this case we will supply the function that we built previously, the **argument_function**. We will redefine the **argument_function** to the result of **my_decorator(argument_function)**"
   ]
  },
  {
   "cell_type": "code",
   "execution_count": 73,
   "metadata": {},
   "outputs": [],
   "source": [
    "#redfine using decorator\n",
    "argument_function = my_decorator(argument_function)"
   ]
  },
  {
   "cell_type": "code",
   "execution_count": 74,
   "metadata": {},
   "outputs": [
    {
     "name": "stdout",
     "output_type": "stream",
     "text": [
      "This is decoration\n",
      "\t This is from the function that was used as an argument\n",
      "This is also decoration\n"
     ]
    }
   ],
   "source": [
    "#Check\n",
    "argument_function()"
   ]
  },
  {
   "cell_type": "markdown",
   "metadata": {},
   "source": [
    "So the **argument_function** was redefined to have its original statement, along with some decoration from the decorator. The more common way a decorator is used is with the **@** symbol. Below is the python way of calling decorators. Again, we will use **my_decorator** as well as **argument_function**, so we should get the same result as before."
   ]
  },
  {
   "cell_type": "code",
   "execution_count": 79,
   "metadata": {},
   "outputs": [],
   "source": [
    "@my_decorator\n",
    "def argument_function():\n",
    "    print(\"\\t This is from the function that was used as an argument\")"
   ]
  },
  {
   "cell_type": "code",
   "execution_count": 80,
   "metadata": {},
   "outputs": [
    {
     "name": "stdout",
     "output_type": "stream",
     "text": [
      "This is decoration\n",
      "\t This is from the function that was used as an argument\n",
      "This is also decoration\n"
     ]
    }
   ],
   "source": [
    "argument_function()"
   ]
  },
  {
   "cell_type": "markdown",
   "metadata": {},
   "source": [
    "You can think of decorators that add to a function (add decoration) without explicitly modifying the body of the function.\n",
    "\n",
    "For more information and examples on decorators visit https://realpython.com/blog/python/primer-on-python-decorators/."
   ]
  },
  {
   "cell_type": "code",
   "execution_count": null,
   "metadata": {
    "collapsed": true
   },
   "outputs": [],
   "source": []
  }
 ],
 "metadata": {
  "kernelspec": {
   "display_name": "Python 3",
   "language": "python",
   "name": "python3"
  },
  "language_info": {
   "codemirror_mode": {
    "name": "ipython",
    "version": 3
   },
   "file_extension": ".py",
   "mimetype": "text/x-python",
   "name": "python",
   "nbconvert_exporter": "python",
   "pygments_lexer": "ipython3",
   "version": "3.6.1"
  }
 },
 "nbformat": 4,
 "nbformat_minor": 2
}
