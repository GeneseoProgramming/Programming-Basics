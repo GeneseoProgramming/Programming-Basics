{
 "cells": [
  {
   "cell_type": "markdown",
   "metadata": {},
   "source": [
    "# While Loops\n",
    "\n",
    "## Syntax\n",
    "The syntax for a **while loop** is:\n",
    "\n",
    "**while** condition:\n",
    "\n",
    "    statement(s)\n",
    "    \n",
    "A **while loop** will execute any statements indented and underneath it as long as the condition holds true. An example of a **while loop** can be seen below."
   ]
  },
  {
   "cell_type": "code",
   "execution_count": 3,
   "metadata": {},
   "outputs": [
    {
     "name": "stdout",
     "output_type": "stream",
     "text": [
      "x is 10\n",
      "x is 9\n",
      "x is 8\n",
      "x is 7\n",
      "x is 6\n"
     ]
    }
   ],
   "source": [
    "x = 10\n",
    "while x > 5:\n",
    "    print(\"x is\", x)\n",
    "    x = x - 1"
   ]
  },
  {
   "cell_type": "markdown",
   "metadata": {},
   "source": [
    "## Beware of the infinite loop!\n",
    "\n",
    "It is fairly easy to code for an infinite while loop, a loop that never ends, if you're not careful. If the condition of your while loop is always true, the loop will never end and will eventually cause your computer to crash.\n",
    "\n",
    "An example of code that would implement an infinite loop is:\n",
    "\n",
    "x = 10\n",
    "\n",
    "**while** x > 0:\n",
    "\n",
    "    print(\"Holy crap this is never going to end! x will always be greater than 0!\")"
   ]
  },
  {
   "cell_type": "markdown",
   "metadata": {},
   "source": [
    "## While Loops with Else Statements\n",
    "\n",
    "We can add an **else statement** to execute a statement(s) once the condition becomes false. It is important to note that the statement(s) under the **else** will only be executed once."
   ]
  },
  {
   "cell_type": "code",
   "execution_count": 2,
   "metadata": {},
   "outputs": [
    {
     "name": "stdout",
     "output_type": "stream",
     "text": [
      "x is 10\n",
      "x is 9\n",
      "x is 8\n",
      "x is 7\n",
      "x is 6\n",
      "Loop is finished!\n"
     ]
    }
   ],
   "source": [
    "x = 10\n",
    "while x > 5:\n",
    "    print(\"x is\", x)\n",
    "    x = x - 1\n",
    "else:\n",
    "    print(\"Loop is finished!\")"
   ]
  },
  {
   "cell_type": "markdown",
   "metadata": {},
   "source": [
    "## The Break Statement\n",
    "\n",
    "The **break** statement is used to break (or end) a loop. Generally, it is used in conjunction with an **if statement**. Below is an example of a break statement being used with a **for loop** as well as a **while loop**."
   ]
  },
  {
   "cell_type": "code",
   "execution_count": 3,
   "metadata": {},
   "outputs": [
    {
     "name": "stdout",
     "output_type": "stream",
     "text": [
      "We are on iteration 0\n",
      "We are on iteration 1\n",
      "We are on iteration 2\n",
      "We are on iteration 3\n",
      "We are on iteration 4\n",
      "We are on iteration 5\n",
      "We are on iteration 6\n"
     ]
    }
   ],
   "source": [
    "for i in range(10):\n",
    "    print(\"We are on iteration\", i)\n",
    "    if i == 6:\n",
    "        break"
   ]
  },
  {
   "cell_type": "markdown",
   "metadata": {},
   "source": [
    "Instead of looping through all of the iterations, the loop broke at iteration 6. Lets now see an example of a **break** statement inside of a **while loop**"
   ]
  },
  {
   "cell_type": "code",
   "execution_count": 4,
   "metadata": {},
   "outputs": [
    {
     "name": "stdout",
     "output_type": "stream",
     "text": [
      "y is 0\n",
      "y is 1\n",
      "y is 2\n",
      "y is 3\n",
      "y is 4\n"
     ]
    }
   ],
   "source": [
    "y = 0\n",
    "\n",
    "while y < 10:\n",
    "    print(\"y is\", y)\n",
    "    y += 1 #add 1 to y\n",
    "    if y == 5:\n",
    "        break"
   ]
  },
  {
   "cell_type": "markdown",
   "metadata": {},
   "source": [
    "Normally in this **while loop** the loop would continue until **y** was greater than 10, but because of the **break** statement, the loop ends at **y = 4**"
   ]
  }
 ],
 "metadata": {
  "kernelspec": {
   "display_name": "Python 3",
   "language": "python",
   "name": "python3"
  },
  "language_info": {
   "codemirror_mode": {
    "name": "ipython",
    "version": 3
   },
   "file_extension": ".py",
   "mimetype": "text/x-python",
   "name": "python",
   "nbconvert_exporter": "python",
   "pygments_lexer": "ipython3",
   "version": "3.6.1"
  }
 },
 "nbformat": 4,
 "nbformat_minor": 2
}
