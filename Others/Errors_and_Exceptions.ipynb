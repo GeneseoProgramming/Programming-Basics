{
 "cells": [
  {
   "cell_type": "markdown",
   "metadata": {
    "collapsed": true
   },
   "source": [
    "# Errors_and_Exceptions\n",
    "\n",
    "You have probably seen a lot of errors when writing python code. For example, when we do something like:"
   ]
  },
  {
   "cell_type": "code",
   "execution_count": 9,
   "metadata": {},
   "outputs": [
    {
     "ename": "SyntaxError",
     "evalue": "invalid syntax (<ipython-input-9-29971fd67f38>, line 1)",
     "output_type": "error",
     "traceback": [
      "\u001b[0;36m  File \u001b[0;32m\"<ipython-input-9-29971fd67f38>\"\u001b[0;36m, line \u001b[0;32m1\u001b[0m\n\u001b[0;31m    [1,2,3)\u001b[0m\n\u001b[0m          ^\u001b[0m\n\u001b[0;31mSyntaxError\u001b[0m\u001b[0;31m:\u001b[0m invalid syntax\n"
     ]
    }
   ],
   "source": [
    "[1,2,3)"
   ]
  },
  {
   "cell_type": "markdown",
   "metadata": {},
   "source": [
    "Here, we got an error called a **SyntaxError**. This type of error is called a **exception** and it is not **unconditionally fatal**, meaning that you can have these errors exist and not break your code, allowing for the rest of your program to run. We do this using the **try** and **except** statements. For a list of the exceptions in python visit https://docs.python.org/2/library/exceptions.html.\n",
    "\n",
    "## Try and Except\n",
    "\n",
    "The syntax for using **try** and **except** statements is as below:\n",
    "\n",
    "    try:\n",
    "        statement(s)\n",
    "    except:\n",
    "        statement(s)\n",
    "\n",
    "The block of statements under the **try** statement will be run if there is no exception. However, if there is an exception, the *try clause* (block of statements underneatht the **try** statement) is skipped, and the **except** clause is executed. Let's see an example of this. Let's try to print **x** when it is not defined. Then let's see how we can get around the error."
   ]
  },
  {
   "cell_type": "code",
   "execution_count": 24,
   "metadata": {},
   "outputs": [
    {
     "ename": "NameError",
     "evalue": "name 'x' is not defined",
     "output_type": "error",
     "traceback": [
      "\u001b[0;31m---------------------------------------------------------------------------\u001b[0m",
      "\u001b[0;31mNameError\u001b[0m                                 Traceback (most recent call last)",
      "\u001b[0;32m<ipython-input-24-81745ac23551>\u001b[0m in \u001b[0;36m<module>\u001b[0;34m()\u001b[0m\n\u001b[0;32m----> 1\u001b[0;31m \u001b[0mprint\u001b[0m\u001b[0;34m(\u001b[0m\u001b[0mx\u001b[0m\u001b[0;34m)\u001b[0m\u001b[0;34m\u001b[0m\u001b[0m\n\u001b[0m",
      "\u001b[0;31mNameError\u001b[0m: name 'x' is not defined"
     ]
    }
   ],
   "source": [
    "print(x)"
   ]
  },
  {
   "cell_type": "code",
   "execution_count": 25,
   "metadata": {},
   "outputs": [
    {
     "name": "stdout",
     "output_type": "stream",
     "text": [
      "There is a NameError. We never defined x!\n"
     ]
    }
   ],
   "source": [
    "try:\n",
    "    print(x)\n",
    "except:\n",
    "    print(\"There is a NameError. We never defined x!\")"
   ]
  },
  {
   "cell_type": "markdown",
   "metadata": {},
   "source": [
    "## Finally\n",
    "\n",
    "We can add a **finally** statement to our code. The finally clause will be run whether an exception is found or not."
   ]
  },
  {
   "cell_type": "code",
   "execution_count": 27,
   "metadata": {},
   "outputs": [
    {
     "name": "stdout",
     "output_type": "stream",
     "text": [
      "There is a NameError. We never defined x!\n",
      "This will be run whether an exception is found or not.\n"
     ]
    }
   ],
   "source": [
    "try:\n",
    "    print(x)\n",
    "except:\n",
    "    print(\"There is a NameError. We never defined x!\")\n",
    "finally:\n",
    "    print(\"This will be run whether an exception is found or not.\")"
   ]
  },
  {
   "cell_type": "markdown",
   "metadata": {},
   "source": [
    "## Else\n",
    "\n",
    "We can add an **else** statement as well. The else clause will be run only if there is no exception found."
   ]
  },
  {
   "cell_type": "code",
   "execution_count": 29,
   "metadata": {},
   "outputs": [
    {
     "name": "stdout",
     "output_type": "stream",
     "text": [
      "I am defined now!\n",
      "Else clause executed; There was no exception found\n",
      "This will be run whether an exception is found or not.\n"
     ]
    }
   ],
   "source": [
    "x = \"I am defined now!\"\n",
    "try:\n",
    "    print(x)\n",
    "except:\n",
    "    print(\"There is a NameError. We never defined x!\")\n",
    "else:\n",
    "    print(\"Else clause executed; There was no exception found\")\n",
    "finally:\n",
    "    print(\"This will be run whether an exception is found or not.\")"
   ]
  },
  {
   "cell_type": "markdown",
   "metadata": {},
   "source": [
    "## A More Difficult Example\n",
    "\n",
    "Let's go through a more difficult example. In this example you will be asking for an integer. However, if you do not receive an integer, print \"That is not an integer. Try again.\", and have the program ask you for an integer once again. If what you receive is an integer, than print the integer divided by 2. We can ask for user input by using the **input()** function."
   ]
  },
  {
   "cell_type": "code",
   "execution_count": 36,
   "metadata": {},
   "outputs": [
    {
     "name": "stdout",
     "output_type": "stream",
     "text": [
      "Please provide an integer: 2.4\n",
      "That is not an integer. Try again.\n",
      "Please provide an integer: alskdhf\n",
      "That is not an integer. Try again.\n",
      "Please provide an integer: 4\n",
      "Your integer divided by 2 is 2.0\n"
     ]
    }
   ],
   "source": [
    "while True:\n",
    "    try:\n",
    "        num = int(input(\"Please provide an integer: \"))\n",
    "    except:\n",
    "        print(\"That is not an integer. Try again.\")\n",
    "    else:\n",
    "        print(\"Your integer divided by 2 is %s\" %(num/2))\n",
    "        break"
   ]
  },
  {
   "cell_type": "markdown",
   "metadata": {},
   "source": [
    "Okay let's break this down. At the top of our code we start with a while loop that reads: **while True**. Being that boolean, **True**, is always true, this will produce an infinite loop that can only be ended through a **break** statement. Next we have our **try** statement. Here we are asking for an input and setting the variable **num** to what is input by the user. However, the input must be an integer because of the **int()** function that is wrapped around the **input()** function, or there will be an exception called a **ValueError**. If an exception does occur, the except clause will be run, printing \"That is not an integer. Try again.\" The while loop will then cause the try clause to be run once more, asking for an integer again. This cycle will continue to repeat until an integer is provided and there is no exception. If there is no exception, the else clause will be run, giving the integer divided by two, and then breaking the loop."
   ]
  },
  {
   "cell_type": "code",
   "execution_count": null,
   "metadata": {
    "collapsed": true
   },
   "outputs": [],
   "source": []
  }
 ],
 "metadata": {
  "kernelspec": {
   "display_name": "Python 3",
   "language": "python",
   "name": "python3"
  },
  "language_info": {
   "codemirror_mode": {
    "name": "ipython",
    "version": 3
   },
   "file_extension": ".py",
   "mimetype": "text/x-python",
   "name": "python",
   "nbconvert_exporter": "python",
   "pygments_lexer": "ipython3",
   "version": "3.6.1"
  }
 },
 "nbformat": 4,
 "nbformat_minor": 2
}
