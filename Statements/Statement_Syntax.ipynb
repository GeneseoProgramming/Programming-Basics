{
 "cells": [
  {
   "cell_type": "markdown",
   "metadata": {},
   "source": [
    "# Statement Syntax\n",
    "\n",
    "One of the reasons that Programming and Data Science Club insists that all beginners start with python is because of the readability of the language, especially when it comes to statements. Take the statement below - you do not need to necessarily understand what is happening, but pay attention to the syntax."
   ]
  },
  {
   "cell_type": "code",
   "execution_count": 3,
   "metadata": {},
   "outputs": [
    {
     "name": "stdout",
     "output_type": "stream",
     "text": [
      "4 is equal to 2 times 2!\n",
      "Statements are cool!\n"
     ]
    }
   ],
   "source": [
    "if 4 == 2*2:\n",
    "    print(\"4 is equal to 2 times 2!\")\n",
    "    x = \"Statements are cool!\"\n",
    "    print(x)"
   ]
  },
  {
   "cell_type": "markdown",
   "metadata": {},
   "source": [
    "So what just happened? Well what we just saw was something called an if statement which we will be covering in depth in future notebooks. In this case our statement is saying that if 4 is equal to 2 x 2, than print \"4 is equal to 2 times 2!\", set x equal to \"Statements are cool!\" and then print x.\n",
    "\n",
    "Lets break down the syntax. In order for python to understand that you want a block of code only to be run if a certain condition holds, you use a colon. In this case our condition is if **4 == 2*2** is true.\n",
    "\n",
    "Next we have the statements that will be run if our condition holds. How do we distinguish between lines of code that should be part of the **if** statement and those that should not? We do this using **whitespace** - empty space made through indentations. Any code that is indented under the colon will be part of the **if** statement. Once a line of code is written without the whitespace indicating that it is under the **if** statement, the **if** statement has ended.\n",
    "\n",
    "For those of you that are coming from a different language, you may notice that the readability and neatness in python are both stressed."
   ]
  },
  {
   "cell_type": "code",
   "execution_count": null,
   "metadata": {
    "collapsed": true
   },
   "outputs": [],
   "source": []
  }
 ],
 "metadata": {
  "kernelspec": {
   "display_name": "Python 3",
   "language": "python",
   "name": "python3"
  },
  "language_info": {
   "codemirror_mode": {
    "name": "ipython",
    "version": 3
   },
   "file_extension": ".py",
   "mimetype": "text/x-python",
   "name": "python",
   "nbconvert_exporter": "python",
   "pygments_lexer": "ipython3",
   "version": "3.6.1"
  }
 },
 "nbformat": 4,
 "nbformat_minor": 2
}
